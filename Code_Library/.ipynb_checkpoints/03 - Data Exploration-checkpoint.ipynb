{
 "cells": [
  {
   "cell_type": "markdown",
   "id": "ffb3ec39",
   "metadata": {},
   "source": [
    "# Packages "
   ]
  },
  {
   "cell_type": "code",
   "execution_count": 1,
   "id": "1e8a3e82",
   "metadata": {},
   "outputs": [],
   "source": [
    "import pandas as pd # pandas package\n",
    "import numpy as np # numpy package\n",
    "from pathlib import Path # path package"
   ]
  },
  {
   "cell_type": "markdown",
   "id": "1e070fc1",
   "metadata": {},
   "source": [
    "# Load Data set"
   ]
  },
  {
   "cell_type": "code",
   "execution_count": 2,
   "id": "2b4dd87f",
   "metadata": {},
   "outputs": [
    {
     "data": {
      "text/html": [
       "<div>\n",
       "<style scoped>\n",
       "    .dataframe tbody tr th:only-of-type {\n",
       "        vertical-align: middle;\n",
       "    }\n",
       "\n",
       "    .dataframe tbody tr th {\n",
       "        vertical-align: top;\n",
       "    }\n",
       "\n",
       "    .dataframe thead th {\n",
       "        text-align: right;\n",
       "    }\n",
       "</style>\n",
       "<table border=\"1\" class=\"dataframe\">\n",
       "  <thead>\n",
       "    <tr style=\"text-align: right;\">\n",
       "      <th></th>\n",
       "      <th>review_title</th>\n",
       "      <th>review_text</th>\n",
       "      <th>review_star</th>\n",
       "      <th>date</th>\n",
       "      <th>author</th>\n",
       "      <th>page</th>\n",
       "      <th>product</th>\n",
       "    </tr>\n",
       "  </thead>\n",
       "  <tbody>\n",
       "    <tr>\n",
       "      <th>3183</th>\n",
       "      <td>Does everything I expected.</td>\n",
       "      <td>Everything I expected. Great streaming device!</td>\n",
       "      <td>5.0 out of 5 stars</td>\n",
       "      <td>Reviewed in the United States on January 2, 2022</td>\n",
       "      <td>Chris Brewer</td>\n",
       "      <td>319</td>\n",
       "      <td>Amazon Fire TV Stick</td>\n",
       "    </tr>\n",
       "    <tr>\n",
       "      <th>6609</th>\n",
       "      <td>Nothing but problems</td>\n",
       "      <td>The first generation chromecast worked great u...</td>\n",
       "      <td>1.0 out of 5 stars</td>\n",
       "      <td>Reviewed in the United States on January 3, 2021</td>\n",
       "      <td>UrKungFuNoGood</td>\n",
       "      <td>161</td>\n",
       "      <td>Google ChromeCast</td>\n",
       "    </tr>\n",
       "    <tr>\n",
       "      <th>194</th>\n",
       "      <td>Nice Streaming device</td>\n",
       "      <td>I got this as a gift and didn't know if I woul...</td>\n",
       "      <td>5.0 out of 5 stars</td>\n",
       "      <td>Reviewed in the United States on March 5, 2022</td>\n",
       "      <td>Sirwackman</td>\n",
       "      <td>20</td>\n",
       "      <td>Amazon Fire TV Stick</td>\n",
       "    </tr>\n",
       "    <tr>\n",
       "      <th>3789</th>\n",
       "      <td>Easy to use</td>\n",
       "      <td>easy to uselittle small remote</td>\n",
       "      <td>5.0 out of 5 stars</td>\n",
       "      <td>Reviewed in the United States on January 6, 2022</td>\n",
       "      <td>Pashupati Gorkhali</td>\n",
       "      <td>379</td>\n",
       "      <td>Amazon Fire TV Stick</td>\n",
       "    </tr>\n",
       "    <tr>\n",
       "      <th>323</th>\n",
       "      <td>Easy to use!</td>\n",
       "      <td>I bought one and like it so much I bought a se...</td>\n",
       "      <td>5.0 out of 5 stars</td>\n",
       "      <td>Reviewed in the United States on May 8, 2022</td>\n",
       "      <td>Ed</td>\n",
       "      <td>33</td>\n",
       "      <td>Amazon Fire TV Stick</td>\n",
       "    </tr>\n",
       "  </tbody>\n",
       "</table>\n",
       "</div>"
      ],
      "text/plain": [
       "                     review_title  \\\n",
       "3183  Does everything I expected.   \n",
       "6609         Nothing but problems   \n",
       "194         Nice Streaming device   \n",
       "3789                  Easy to use   \n",
       "323                  Easy to use!   \n",
       "\n",
       "                                            review_text         review_star  \\\n",
       "3183     Everything I expected. Great streaming device!  5.0 out of 5 stars   \n",
       "6609  The first generation chromecast worked great u...  1.0 out of 5 stars   \n",
       "194   I got this as a gift and didn't know if I woul...  5.0 out of 5 stars   \n",
       "3789                     easy to uselittle small remote  5.0 out of 5 stars   \n",
       "323   I bought one and like it so much I bought a se...  5.0 out of 5 stars   \n",
       "\n",
       "                                                  date              author  \\\n",
       "3183  Reviewed in the United States on January 2, 2022        Chris Brewer   \n",
       "6609  Reviewed in the United States on January 3, 2021      UrKungFuNoGood   \n",
       "194     Reviewed in the United States on March 5, 2022          Sirwackman   \n",
       "3789  Reviewed in the United States on January 6, 2022  Pashupati Gorkhali   \n",
       "323       Reviewed in the United States on May 8, 2022                  Ed   \n",
       "\n",
       "      page               product  \n",
       "3183   319  Amazon Fire TV Stick  \n",
       "6609   161     Google ChromeCast  \n",
       "194     20  Amazon Fire TV Stick  \n",
       "3789   379  Amazon Fire TV Stick  \n",
       "323     33  Amazon Fire TV Stick  "
      ]
     },
     "execution_count": 2,
     "metadata": {},
     "output_type": "execute_result"
    }
   ],
   "source": [
    "df = pd.read_csv(Path(r\"../Data/Merged Data/merged_data.csv\"))\n",
    "df.sample(5)"
   ]
  },
  {
   "cell_type": "code",
   "execution_count": null,
   "id": "63222e22",
   "metadata": {},
   "outputs": [],
   "source": []
  }
 ],
 "metadata": {
  "kernelspec": {
   "display_name": "Python [conda env:ads599] *",
   "language": "python",
   "name": "conda-env-ads599-py"
  },
  "language_info": {
   "codemirror_mode": {
    "name": "ipython",
    "version": 3
   },
   "file_extension": ".py",
   "mimetype": "text/x-python",
   "name": "python",
   "nbconvert_exporter": "python",
   "pygments_lexer": "ipython3",
   "version": "3.8.13"
  }
 },
 "nbformat": 4,
 "nbformat_minor": 5
}
