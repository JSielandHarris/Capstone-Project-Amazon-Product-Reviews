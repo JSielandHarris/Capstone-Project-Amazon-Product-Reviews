{
 "cells": [
  {
   "cell_type": "markdown",
   "id": "ffb3ec39",
   "metadata": {},
   "source": [
    "# Packages "
   ]
  },
  {
   "cell_type": "code",
   "execution_count": 1,
   "id": "1e8a3e82",
   "metadata": {},
   "outputs": [],
   "source": [
    "import pandas as pd # pandas package\n",
    "import numpy as np # numpy package\n",
    "import matplotlib.pyplot as plt # matplotlib package\n",
    "import seaborn as sns # seaborn package\n",
    "import plotly \n",
    "from pathlib import Path # path package\n",
    "import re #regex package\n",
    "from textblob import TextBlob #import textblob package"
   ]
  },
  {
   "cell_type": "markdown",
   "id": "1e070fc1",
   "metadata": {},
   "source": [
    "# Load Data set"
   ]
  },
  {
   "cell_type": "code",
   "execution_count": 2,
   "id": "2b4dd87f",
   "metadata": {},
   "outputs": [
    {
     "data": {
      "text/html": [
       "<div>\n",
       "<style scoped>\n",
       "    .dataframe tbody tr th:only-of-type {\n",
       "        vertical-align: middle;\n",
       "    }\n",
       "\n",
       "    .dataframe tbody tr th {\n",
       "        vertical-align: top;\n",
       "    }\n",
       "\n",
       "    .dataframe thead th {\n",
       "        text-align: right;\n",
       "    }\n",
       "</style>\n",
       "<table border=\"1\" class=\"dataframe\">\n",
       "  <thead>\n",
       "    <tr style=\"text-align: right;\">\n",
       "      <th></th>\n",
       "      <th>review_title</th>\n",
       "      <th>review_text</th>\n",
       "      <th>review_star</th>\n",
       "      <th>date</th>\n",
       "      <th>author</th>\n",
       "      <th>page</th>\n",
       "      <th>product</th>\n",
       "    </tr>\n",
       "  </thead>\n",
       "  <tbody>\n",
       "    <tr>\n",
       "      <th>6320</th>\n",
       "      <td>I am the Streamster!!!&lt;U+0001F917&gt;&lt;U+0001F92F&gt;...</td>\n",
       "      <td>It works!!</td>\n",
       "      <td>5.0 out of 5 stars</td>\n",
       "      <td>Reviewed in the United States on August 11, 2020</td>\n",
       "      <td>Christopher E Stuart</td>\n",
       "      <td>133</td>\n",
       "      <td>Google ChromeCast</td>\n",
       "    </tr>\n",
       "    <tr>\n",
       "      <th>13497</th>\n",
       "      <td>Ads, Ads and more ads. I switched to a Chromec...</td>\n",
       "      <td>I bought this to replace a Chromecast.Pressing...</td>\n",
       "      <td>1.0 out of 5 stars</td>\n",
       "      <td>Reviewed in the United States on July 31, 2020</td>\n",
       "      <td>DPO</td>\n",
       "      <td>350</td>\n",
       "      <td>Roku Remote</td>\n",
       "    </tr>\n",
       "    <tr>\n",
       "      <th>84</th>\n",
       "      <td>New features</td>\n",
       "      <td>I had the original fire stick for about 2 year...</td>\n",
       "      <td>5.0 out of 5 stars</td>\n",
       "      <td>Reviewed in the United States on February 18, ...</td>\n",
       "      <td>Jason</td>\n",
       "      <td>9</td>\n",
       "      <td>Amazon Fire TV Stick</td>\n",
       "    </tr>\n",
       "    <tr>\n",
       "      <th>11610</th>\n",
       "      <td>Good quality Product</td>\n",
       "      <td>The Roku streaming stick was easy to install a...</td>\n",
       "      <td>5.0 out of 5 stars</td>\n",
       "      <td>Reviewed in the United States on October 13, 2019</td>\n",
       "      <td>Truman</td>\n",
       "      <td>162</td>\n",
       "      <td>Roku Remote</td>\n",
       "    </tr>\n",
       "    <tr>\n",
       "      <th>9484</th>\n",
       "      <td>No type c cable included !!!</td>\n",
       "      <td>i just purchased chromecast and it didn't come...</td>\n",
       "      <td>1.0 out of 5 stars</td>\n",
       "      <td>Reviewed in the United States on July 21, 2019</td>\n",
       "      <td>Dae Kang</td>\n",
       "      <td>449</td>\n",
       "      <td>Google ChromeCast</td>\n",
       "    </tr>\n",
       "  </tbody>\n",
       "</table>\n",
       "</div>"
      ],
      "text/plain": [
       "                                            review_title  \\\n",
       "6320   I am the Streamster!!!<U+0001F917><U+0001F92F>...   \n",
       "13497  Ads, Ads and more ads. I switched to a Chromec...   \n",
       "84                                          New features   \n",
       "11610                               Good quality Product   \n",
       "9484                        No type c cable included !!!   \n",
       "\n",
       "                                             review_text         review_star  \\\n",
       "6320                                          It works!!  5.0 out of 5 stars   \n",
       "13497  I bought this to replace a Chromecast.Pressing...  1.0 out of 5 stars   \n",
       "84     I had the original fire stick for about 2 year...  5.0 out of 5 stars   \n",
       "11610  The Roku streaming stick was easy to install a...  5.0 out of 5 stars   \n",
       "9484   i just purchased chromecast and it didn't come...  1.0 out of 5 stars   \n",
       "\n",
       "                                                    date  \\\n",
       "6320    Reviewed in the United States on August 11, 2020   \n",
       "13497     Reviewed in the United States on July 31, 2020   \n",
       "84     Reviewed in the United States on February 18, ...   \n",
       "11610  Reviewed in the United States on October 13, 2019   \n",
       "9484      Reviewed in the United States on July 21, 2019   \n",
       "\n",
       "                     author  page               product  \n",
       "6320   Christopher E Stuart   133     Google ChromeCast  \n",
       "13497                   DPO   350           Roku Remote  \n",
       "84                    Jason     9  Amazon Fire TV Stick  \n",
       "11610                Truman   162           Roku Remote  \n",
       "9484               Dae Kang   449     Google ChromeCast  "
      ]
     },
     "execution_count": 2,
     "metadata": {},
     "output_type": "execute_result"
    }
   ],
   "source": [
    "df = pd.read_csv(Path(r\"../Data/Merged Data/merged_data.csv\"))\n",
    "df.sample(5)"
   ]
  },
  {
   "cell_type": "markdown",
   "id": "63222e22",
   "metadata": {},
   "source": [
    "# Pre-cleaning \n",
    "\n",
    "1. Remove the rows where `review_text` column were missing\n",
    "2. Fix `review_star` to have numeric value of ratings \n",
    "3. fix `date` to be parsed and converted into datetime object\n",
    "4. Make suring we have actual string dtype columns\n",
    "5. Convert `review_title`, `review_text`, `author`, and `product` to string types\n",
    "6. Adding Sentiment Polarity Scores for `review_text` as a new column `polarity`\n",
    "7. Adding Length of Reviews as a new column `review_len`\n",
    "8. Adding the Word Count in each Reviews as a new column `word_count`\n"
   ]
  },
  {
   "cell_type": "markdown",
   "id": "ae552e3d",
   "metadata": {},
   "source": [
    "## Remove missing values in `review_text`"
   ]
  },
  {
   "cell_type": "code",
   "execution_count": 3,
   "id": "6798cbb5",
   "metadata": {},
   "outputs": [
    {
     "data": {
      "text/plain": [
       "(17740, 7)"
      ]
     },
     "execution_count": 3,
     "metadata": {},
     "output_type": "execute_result"
    }
   ],
   "source": [
    "df.shape"
   ]
  },
  {
   "cell_type": "code",
   "execution_count": 4,
   "id": "12de4b94",
   "metadata": {},
   "outputs": [
    {
     "data": {
      "text/plain": [
       "(17696, 7)"
      ]
     },
     "execution_count": 4,
     "metadata": {},
     "output_type": "execute_result"
    }
   ],
   "source": [
    "df = df[~df['review_text'].isnull()]\n",
    "df.shape"
   ]
  },
  {
   "cell_type": "markdown",
   "id": "3d9dde04",
   "metadata": {},
   "source": [
    "## Cleaning `review_star`"
   ]
  },
  {
   "cell_type": "code",
   "execution_count": 5,
   "id": "89a76611",
   "metadata": {},
   "outputs": [
    {
     "data": {
      "text/plain": [
       "6258     5.0\n",
       "3431     5.0\n",
       "15590    4.0\n",
       "303      5.0\n",
       "17000    1.0\n",
       "Name: review_star, dtype: float64"
      ]
     },
     "execution_count": 5,
     "metadata": {},
     "output_type": "execute_result"
    }
   ],
   "source": [
    "## extract rating from strings and convert to float type\n",
    "df['review_star'] = df['review_star'].apply(lambda x: re.findall(r'^[0-9]\\.[0-9]?', x)[0]).astype(float)\n",
    "\n",
    "# sample only 5 rows\n",
    "df['review_star'].sample(5)\n"
   ]
  },
  {
   "cell_type": "markdown",
   "id": "51987541",
   "metadata": {},
   "source": [
    "## Cleaning `date`"
   ]
  },
  {
   "cell_type": "code",
   "execution_count": 6,
   "id": "b15cdd54",
   "metadata": {},
   "outputs": [
    {
     "data": {
      "text/plain": [
       "3121     03-27-2022\n",
       "10257    11-19-2021\n",
       "4812     03-01-2022\n",
       "13246    01-06-2020\n",
       "6862     08-06-2020\n",
       "Name: date, dtype: object"
      ]
     },
     "execution_count": 6,
     "metadata": {},
     "output_type": "execute_result"
    }
   ],
   "source": [
    "# clean date of reviews to parse the actual date and convert to date-time object \n",
    "df['date'] = pd.to_datetime(df['date'].apply(lambda x: re.findall(r'(?<=on\\ ).*', x)[0])).dt.strftime('%m-%d-%Y')\n",
    "\n",
    "# sample only 5 rows\n",
    "df['date'].sample(5)"
   ]
  },
  {
   "cell_type": "markdown",
   "id": "ac091052",
   "metadata": {},
   "source": [
    "## Convert `review_title`, `review_text`, `author`, and `product` to string types"
   ]
  },
  {
   "cell_type": "code",
   "execution_count": 7,
   "id": "a59201ee",
   "metadata": {},
   "outputs": [],
   "source": [
    "# convert review title column into string type\n",
    "df['review_title'] = df['review_title'].astype(\"string\")\n",
    "\n",
    "# convert review text column into string type\n",
    "df['review_text'] = df['review_text'].astype(\"string\")\n",
    "\n",
    "# convert author column into string type\n",
    "df['author'] = df['author'].astype(\"string\")\n",
    "\n",
    "# convert product column into string type\n",
    "df['product'] = df['product'].astype(\"string\")"
   ]
  },
  {
   "cell_type": "markdown",
   "id": "f11cfbb1",
   "metadata": {},
   "source": [
    "## Adding Sentiment Polarity Scores as `polarity`"
   ]
  },
  {
   "cell_type": "code",
   "execution_count": 8,
   "id": "6791bd71",
   "metadata": {},
   "outputs": [
    {
     "data": {
      "text/plain": [
       "15704    0.445518\n",
       "6905     0.616667\n",
       "3375     0.500000\n",
       "831      0.493182\n",
       "5763     0.000000\n",
       "Name: polarity, dtype: float64"
      ]
     },
     "execution_count": 8,
     "metadata": {},
     "output_type": "execute_result"
    }
   ],
   "source": [
    "# create new column for sentiment polarity scores\n",
    "df['polarity'] = df['review_text'].map(lambda text: TextBlob(text).sentiment.polarity)\n",
    "\n",
    "# sample only 5 rows\n",
    "df['polarity'].sample(5)"
   ]
  },
  {
   "cell_type": "markdown",
   "id": "ea9648d6",
   "metadata": {},
   "source": [
    "### Preview 5 randomly selected reviews with the highest sentiment polarity score"
   ]
  },
  {
   "cell_type": "code",
   "execution_count": 9,
   "id": "b1965689",
   "metadata": {},
   "outputs": [
    {
     "name": "stdout",
     "output_type": "stream",
     "text": [
      "5 random reviews with the highest positive sentiment polarity: \n",
      "\n",
      "best buy!!!\n",
      "Works great!\n",
      "Works <U+0001F44D> streaming everything is wonderful\n",
      "excellent\n",
      "Works great!\n"
     ]
    }
   ],
   "source": [
    "print('5 random reviews with the highest positive sentiment polarity: \\n')\n",
    "cl = df.loc[df.polarity == 1, ['review_text']].sample(5).values\n",
    "for c in cl:\n",
    "    print(c[0])"
   ]
  },
  {
   "cell_type": "markdown",
   "id": "31f45814",
   "metadata": {},
   "source": [
    "### Preview 5 randomly selected reviews with the most neutral sentiment polarity score"
   ]
  },
  {
   "cell_type": "code",
   "execution_count": 10,
   "id": "4b1591c7",
   "metadata": {},
   "outputs": [
    {
     "name": "stdout",
     "output_type": "stream",
     "text": [
      "5 random reviews with the most neutral sentiment(zero) polarity: \n",
      "\n",
      "I wish that the TV Guide was easier to understand unless it's me.\n",
      "<U+0001F44D><U+0001F60A>\n",
      "works as advertised\n",
      "La comodidad de control remoto y la calidad que ofrece\n",
      "Just dumped the catv provider\n"
     ]
    }
   ],
   "source": [
    "print('5 random reviews with the most neutral sentiment(zero) polarity: \\n')\n",
    "cl = df.loc[df.polarity == 0, ['review_text']].sample(5).values\n",
    "for c in cl:\n",
    "    print(c[0])"
   ]
  },
  {
   "cell_type": "markdown",
   "id": "d93a367b",
   "metadata": {},
   "source": [
    "### Preview 5 randomly selected reviews with the most negative sentiment polarity score"
   ]
  },
  {
   "cell_type": "code",
   "execution_count": 11,
   "id": "f10901fc",
   "metadata": {},
   "outputs": [
    {
     "name": "stdout",
     "output_type": "stream",
     "text": [
      "5 reviews with the most negative polarity: \n",
      "\n",
      "No mute button WTF!!!!!!!!!!\n",
      "You have to use your phone to control this. Very annoying. Wish I got the fire stick or Roku stick instead\n",
      "This is a horrible device, although I am an IT Data tech. Cannot get it working after I downloaded 3 apps , gave them my CC card . Now there are fraudulent charges on my account. Please do not purchase this product, you will regret it. !!\n",
      "Just awful...one of apples worst products...highly recommend going with something else\n",
      "Terrible\n"
     ]
    }
   ],
   "source": [
    "print('5 reviews with the most negative polarity: \\n')\n",
    "cl = df.loc[df.polarity <= -1.0, ['review_text']].sample(5).values\n",
    "for c in cl:\n",
    "    print(c[0])"
   ]
  },
  {
   "cell_type": "markdown",
   "id": "76b798b9",
   "metadata": {},
   "source": [
    "## Adding Length of Reviews as `review_len`"
   ]
  },
  {
   "cell_type": "code",
   "execution_count": 12,
   "id": "6e386b66",
   "metadata": {},
   "outputs": [
    {
     "data": {
      "text/plain": [
       "3290      11\n",
       "1965      40\n",
       "2997     123\n",
       "3610       9\n",
       "12914     18\n",
       "Name: review_len, dtype: int64"
      ]
     },
     "execution_count": 12,
     "metadata": {},
     "output_type": "execute_result"
    }
   ],
   "source": [
    "# create new column called review_len for length of reviews\n",
    "df['review_len'] = df['review_text'].astype(str).apply(len)\n",
    "\n",
    "# sample only 5 rows\n",
    "df['review_len'].sample(5)"
   ]
  },
  {
   "cell_type": "markdown",
   "id": "d412daf6",
   "metadata": {},
   "source": [
    "## Adding the Word Count in each Reviews as `word_count`"
   ]
  },
  {
   "cell_type": "code",
   "execution_count": 13,
   "id": "b0059610",
   "metadata": {},
   "outputs": [
    {
     "data": {
      "text/plain": [
       "9834      2\n",
       "17058    54\n",
       "11417    36\n",
       "16620     2\n",
       "17663    28\n",
       "Name: word_count, dtype: int64"
      ]
     },
     "execution_count": 13,
     "metadata": {},
     "output_type": "execute_result"
    }
   ],
   "source": [
    "# create new column called word count for number of words in each reviews\n",
    "df['word_count'] = df['review_text'].apply(lambda x: len(str(x).split()))\n",
    "\n",
    "# sample only 5 rows\n",
    "df['word_count'].sample(5)"
   ]
  },
  {
   "cell_type": "markdown",
   "id": "6531bae3",
   "metadata": {},
   "source": [
    "## Re-examine data now"
   ]
  },
  {
   "cell_type": "code",
   "execution_count": 14,
   "id": "50e83905",
   "metadata": {},
   "outputs": [
    {
     "data": {
      "text/html": [
       "<div>\n",
       "<style scoped>\n",
       "    .dataframe tbody tr th:only-of-type {\n",
       "        vertical-align: middle;\n",
       "    }\n",
       "\n",
       "    .dataframe tbody tr th {\n",
       "        vertical-align: top;\n",
       "    }\n",
       "\n",
       "    .dataframe thead th {\n",
       "        text-align: right;\n",
       "    }\n",
       "</style>\n",
       "<table border=\"1\" class=\"dataframe\">\n",
       "  <thead>\n",
       "    <tr style=\"text-align: right;\">\n",
       "      <th></th>\n",
       "      <th>review_title</th>\n",
       "      <th>review_text</th>\n",
       "      <th>review_star</th>\n",
       "      <th>date</th>\n",
       "      <th>author</th>\n",
       "      <th>page</th>\n",
       "      <th>product</th>\n",
       "      <th>polarity</th>\n",
       "      <th>review_len</th>\n",
       "      <th>word_count</th>\n",
       "    </tr>\n",
       "  </thead>\n",
       "  <tbody>\n",
       "    <tr>\n",
       "      <th>2531</th>\n",
       "      <td>Its cool</td>\n",
       "      <td>Its cool</td>\n",
       "      <td>5.0</td>\n",
       "      <td>01-13-2022</td>\n",
       "      <td>Tommy Terry</td>\n",
       "      <td>254</td>\n",
       "      <td>Amazon Fire TV Stick</td>\n",
       "      <td>0.350000</td>\n",
       "      <td>8</td>\n",
       "      <td>2</td>\n",
       "    </tr>\n",
       "    <tr>\n",
       "      <th>16772</th>\n",
       "      <td>Love amazon not this time.</td>\n",
       "      <td>It's not working. Plug it and no power. Its junk.</td>\n",
       "      <td>2.0</td>\n",
       "      <td>07-23-2020</td>\n",
       "      <td>Jenny Casella</td>\n",
       "      <td>178</td>\n",
       "      <td>Apple TV</td>\n",
       "      <td>0.000000</td>\n",
       "      <td>49</td>\n",
       "      <td>10</td>\n",
       "    </tr>\n",
       "    <tr>\n",
       "      <th>7000</th>\n",
       "      <td>Works as expected.</td>\n",
       "      <td>Works as expected. But, this was a second one ...</td>\n",
       "      <td>5.0</td>\n",
       "      <td>09-08-2020</td>\n",
       "      <td>ray</td>\n",
       "      <td>201</td>\n",
       "      <td>Google ChromeCast</td>\n",
       "      <td>-0.033333</td>\n",
       "      <td>129</td>\n",
       "      <td>27</td>\n",
       "    </tr>\n",
       "    <tr>\n",
       "      <th>14107</th>\n",
       "      <td>#1 Video streamer.</td>\n",
       "      <td>Excellent.. here is what i think:1. They produ...</td>\n",
       "      <td>5.0</td>\n",
       "      <td>01-25-2018</td>\n",
       "      <td>M. Reddy</td>\n",
       "      <td>411</td>\n",
       "      <td>Roku Remote</td>\n",
       "      <td>0.566942</td>\n",
       "      <td>414</td>\n",
       "      <td>69</td>\n",
       "    </tr>\n",
       "    <tr>\n",
       "      <th>6486</th>\n",
       "      <td>Essential</td>\n",
       "      <td>I've been using chromecast for the past 7 year...</td>\n",
       "      <td>5.0</td>\n",
       "      <td>09-16-2021</td>\n",
       "      <td>Brittany Campbell</td>\n",
       "      <td>149</td>\n",
       "      <td>Google ChromeCast</td>\n",
       "      <td>0.175024</td>\n",
       "      <td>1114</td>\n",
       "      <td>210</td>\n",
       "    </tr>\n",
       "    <tr>\n",
       "      <th>8279</th>\n",
       "      <td>great product</td>\n",
       "      <td>work as expected</td>\n",
       "      <td>5.0</td>\n",
       "      <td>04-18-2020</td>\n",
       "      <td>Amazon Customer</td>\n",
       "      <td>328</td>\n",
       "      <td>Google ChromeCast</td>\n",
       "      <td>-0.100000</td>\n",
       "      <td>16</td>\n",
       "      <td>3</td>\n",
       "    </tr>\n",
       "    <tr>\n",
       "      <th>2420</th>\n",
       "      <td>Works great</td>\n",
       "      <td>Dont have cable, watch everything thru this un...</td>\n",
       "      <td>5.0</td>\n",
       "      <td>07-05-2022</td>\n",
       "      <td>Diarra P Collazo</td>\n",
       "      <td>243</td>\n",
       "      <td>Amazon Fire TV Stick</td>\n",
       "      <td>0.800000</td>\n",
       "      <td>66</td>\n",
       "      <td>11</td>\n",
       "    </tr>\n",
       "    <tr>\n",
       "      <th>2350</th>\n",
       "      <td>good value for the money</td>\n",
       "      <td>Fast shipping. exactly as it said. Easy to ins...</td>\n",
       "      <td>5.0</td>\n",
       "      <td>02-16-2022</td>\n",
       "      <td>Nancy Kepner</td>\n",
       "      <td>236</td>\n",
       "      <td>Amazon Fire TV Stick</td>\n",
       "      <td>0.270833</td>\n",
       "      <td>69</td>\n",
       "      <td>12</td>\n",
       "    </tr>\n",
       "    <tr>\n",
       "      <th>15998</th>\n",
       "      <td>ATV FTW</td>\n",
       "      <td>I don’t have cable or satellite right now so I...</td>\n",
       "      <td>5.0</td>\n",
       "      <td>08-09-2018</td>\n",
       "      <td>Julian Salas</td>\n",
       "      <td>100</td>\n",
       "      <td>Apple TV</td>\n",
       "      <td>0.362245</td>\n",
       "      <td>300</td>\n",
       "      <td>60</td>\n",
       "    </tr>\n",
       "    <tr>\n",
       "      <th>823</th>\n",
       "      <td>A great accessory to have for sure</td>\n",
       "      <td>It's the best. You don't even really need cabl...</td>\n",
       "      <td>5.0</td>\n",
       "      <td>11-17-2021</td>\n",
       "      <td>Stephanie</td>\n",
       "      <td>83</td>\n",
       "      <td>Amazon Fire TV Stick</td>\n",
       "      <td>0.435714</td>\n",
       "      <td>200</td>\n",
       "      <td>40</td>\n",
       "    </tr>\n",
       "  </tbody>\n",
       "</table>\n",
       "</div>"
      ],
      "text/plain": [
       "                             review_title  \\\n",
       "2531                             Its cool   \n",
       "16772          Love amazon not this time.   \n",
       "7000                   Works as expected.   \n",
       "14107                  #1 Video streamer.   \n",
       "6486                            Essential   \n",
       "8279                        great product   \n",
       "2420                          Works great   \n",
       "2350             good value for the money   \n",
       "15998                             ATV FTW   \n",
       "823    A great accessory to have for sure   \n",
       "\n",
       "                                             review_text  review_star  \\\n",
       "2531                                            Its cool          5.0   \n",
       "16772  It's not working. Plug it and no power. Its junk.          2.0   \n",
       "7000   Works as expected. But, this was a second one ...          5.0   \n",
       "14107  Excellent.. here is what i think:1. They produ...          5.0   \n",
       "6486   I've been using chromecast for the past 7 year...          5.0   \n",
       "8279                                    work as expected          5.0   \n",
       "2420   Dont have cable, watch everything thru this un...          5.0   \n",
       "2350   Fast shipping. exactly as it said. Easy to ins...          5.0   \n",
       "15998  I don’t have cable or satellite right now so I...          5.0   \n",
       "823    It's the best. You don't even really need cabl...          5.0   \n",
       "\n",
       "             date             author  page               product  polarity  \\\n",
       "2531   01-13-2022        Tommy Terry   254  Amazon Fire TV Stick  0.350000   \n",
       "16772  07-23-2020      Jenny Casella   178              Apple TV  0.000000   \n",
       "7000   09-08-2020                ray   201     Google ChromeCast -0.033333   \n",
       "14107  01-25-2018           M. Reddy   411           Roku Remote  0.566942   \n",
       "6486   09-16-2021  Brittany Campbell   149     Google ChromeCast  0.175024   \n",
       "8279   04-18-2020    Amazon Customer   328     Google ChromeCast -0.100000   \n",
       "2420   07-05-2022   Diarra P Collazo   243  Amazon Fire TV Stick  0.800000   \n",
       "2350   02-16-2022       Nancy Kepner   236  Amazon Fire TV Stick  0.270833   \n",
       "15998  08-09-2018       Julian Salas   100              Apple TV  0.362245   \n",
       "823    11-17-2021          Stephanie    83  Amazon Fire TV Stick  0.435714   \n",
       "\n",
       "       review_len  word_count  \n",
       "2531            8           2  \n",
       "16772          49          10  \n",
       "7000          129          27  \n",
       "14107         414          69  \n",
       "6486         1114         210  \n",
       "8279           16           3  \n",
       "2420           66          11  \n",
       "2350           69          12  \n",
       "15998         300          60  \n",
       "823           200          40  "
      ]
     },
     "execution_count": 14,
     "metadata": {},
     "output_type": "execute_result"
    }
   ],
   "source": [
    "# preview new clean columns with only 10 samples\n",
    "df.sample(10)"
   ]
  },
  {
   "cell_type": "markdown",
   "id": "8d7cb3ef",
   "metadata": {},
   "source": [
    "# Exploratory Data Analysis "
   ]
  },
  {
   "cell_type": "code",
   "execution_count": null,
   "id": "5f9c54f8",
   "metadata": {},
   "outputs": [],
   "source": []
  }
 ],
 "metadata": {
  "kernelspec": {
   "display_name": "Python 3.8.13 ('ads599')",
   "language": "python",
   "name": "python3"
  },
  "language_info": {
   "codemirror_mode": {
    "name": "ipython",
    "version": 3
   },
   "file_extension": ".py",
   "mimetype": "text/x-python",
   "name": "python",
   "nbconvert_exporter": "python",
   "pygments_lexer": "ipython3",
   "version": "3.8.13"
  },
  "vscode": {
   "interpreter": {
    "hash": "8fb40fb6fc083ec60bb570639d96099951c3529e4325888a92a15951c8905959"
   }
  }
 },
 "nbformat": 4,
 "nbformat_minor": 5
}
