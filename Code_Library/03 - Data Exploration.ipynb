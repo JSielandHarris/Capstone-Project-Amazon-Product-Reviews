{
 "cells": [
  {
   "cell_type": "markdown",
   "id": "ffb3ec39",
   "metadata": {},
   "source": [
    "# Packages "
   ]
  },
  {
   "cell_type": "code",
   "execution_count": 1,
   "id": "1e8a3e82",
   "metadata": {},
   "outputs": [],
   "source": [
    "import pandas as pd # pandas package\n",
    "import numpy as np # numpy package\n",
    "import matplotlib.pyplot as plt # matplotlib package\n",
    "import seaborn as sns # seaborn package\n",
    "import plotly \n",
    "from pathlib import Path # path package\n",
    "import re #regex package\n",
    "from textblob import TextBlob #import textblob package"
   ]
  },
  {
   "cell_type": "markdown",
   "id": "1e070fc1",
   "metadata": {},
   "source": [
    "# Load Data set"
   ]
  },
  {
   "cell_type": "code",
   "execution_count": 2,
   "id": "2b4dd87f",
   "metadata": {},
   "outputs": [
    {
     "data": {
      "text/html": [
       "<div>\n",
       "<style scoped>\n",
       "    .dataframe tbody tr th:only-of-type {\n",
       "        vertical-align: middle;\n",
       "    }\n",
       "\n",
       "    .dataframe tbody tr th {\n",
       "        vertical-align: top;\n",
       "    }\n",
       "\n",
       "    .dataframe thead th {\n",
       "        text-align: right;\n",
       "    }\n",
       "</style>\n",
       "<table border=\"1\" class=\"dataframe\">\n",
       "  <thead>\n",
       "    <tr style=\"text-align: right;\">\n",
       "      <th></th>\n",
       "      <th>review_title</th>\n",
       "      <th>review_text</th>\n",
       "      <th>review_star</th>\n",
       "      <th>date</th>\n",
       "      <th>author</th>\n",
       "      <th>page</th>\n",
       "      <th>product</th>\n",
       "    </tr>\n",
       "  </thead>\n",
       "  <tbody>\n",
       "    <tr>\n",
       "      <th>13969</th>\n",
       "      <td>Buy one if you want other Streaming</td>\n",
       "      <td>I bought 2 of them for myself and a friend. We...</td>\n",
       "      <td>5.0 out of 5 stars</td>\n",
       "      <td>Reviewed in the United States on April 22, 2021</td>\n",
       "      <td>Jay H</td>\n",
       "      <td>397</td>\n",
       "      <td>Roku Remote</td>\n",
       "    </tr>\n",
       "    <tr>\n",
       "      <th>4058</th>\n",
       "      <td>Sus progamas</td>\n",
       "      <td>Si imagen y la gran variedad de programas</td>\n",
       "      <td>5.0 out of 5 stars</td>\n",
       "      <td>Reviewed in the United States on April 27, 2022</td>\n",
       "      <td>Edeard Antonio Peguero Homez</td>\n",
       "      <td>406</td>\n",
       "      <td>Amazon Fire TV Stick</td>\n",
       "    </tr>\n",
       "    <tr>\n",
       "      <th>2570</th>\n",
       "      <td>Very good image, even on a conventional tv</td>\n",
       "      <td>Very goodbye</td>\n",
       "      <td>5.0 out of 5 stars</td>\n",
       "      <td>Reviewed in the United States on December 30, ...</td>\n",
       "      <td>RRBB</td>\n",
       "      <td>258</td>\n",
       "      <td>Amazon Fire TV Stick</td>\n",
       "    </tr>\n",
       "    <tr>\n",
       "      <th>13652</th>\n",
       "      <td>Flawless streaming quality all</td>\n",
       "      <td>I purchased an Amazon fire stick first before ...</td>\n",
       "      <td>5.0 out of 5 stars</td>\n",
       "      <td>Reviewed in the United States on March 18, 2020</td>\n",
       "      <td>eg61</td>\n",
       "      <td>366</td>\n",
       "      <td>Roku Remote</td>\n",
       "    </tr>\n",
       "    <tr>\n",
       "      <th>4000</th>\n",
       "      <td>fast shipping</td>\n",
       "      <td>Great product and fast shipping.</td>\n",
       "      <td>5.0 out of 5 stars</td>\n",
       "      <td>Reviewed in the United States on June 13, 2022</td>\n",
       "      <td>John Fras</td>\n",
       "      <td>401</td>\n",
       "      <td>Amazon Fire TV Stick</td>\n",
       "    </tr>\n",
       "  </tbody>\n",
       "</table>\n",
       "</div>"
      ],
      "text/plain": [
       "                                     review_title  \\\n",
       "13969         Buy one if you want other Streaming   \n",
       "4058                                 Sus progamas   \n",
       "2570   Very good image, even on a conventional tv   \n",
       "13652              Flawless streaming quality all   \n",
       "4000                                fast shipping   \n",
       "\n",
       "                                             review_text         review_star  \\\n",
       "13969  I bought 2 of them for myself and a friend. We...  5.0 out of 5 stars   \n",
       "4058           Si imagen y la gran variedad de programas  5.0 out of 5 stars   \n",
       "2570                                        Very goodbye  5.0 out of 5 stars   \n",
       "13652  I purchased an Amazon fire stick first before ...  5.0 out of 5 stars   \n",
       "4000                    Great product and fast shipping.  5.0 out of 5 stars   \n",
       "\n",
       "                                                    date  \\\n",
       "13969    Reviewed in the United States on April 22, 2021   \n",
       "4058     Reviewed in the United States on April 27, 2022   \n",
       "2570   Reviewed in the United States on December 30, ...   \n",
       "13652    Reviewed in the United States on March 18, 2020   \n",
       "4000      Reviewed in the United States on June 13, 2022   \n",
       "\n",
       "                             author  page               product  \n",
       "13969                         Jay H   397           Roku Remote  \n",
       "4058   Edeard Antonio Peguero Homez   406  Amazon Fire TV Stick  \n",
       "2570                           RRBB   258  Amazon Fire TV Stick  \n",
       "13652                          eg61   366           Roku Remote  \n",
       "4000                      John Fras   401  Amazon Fire TV Stick  "
      ]
     },
     "execution_count": 2,
     "metadata": {},
     "output_type": "execute_result"
    }
   ],
   "source": [
    "# load the merged data set into pandas\n",
    "df = pd.read_csv(Path(r\"../Data/Merged Data/merged_data.csv\"))\n",
    "\n",
    "# sample only 5 rows\n",
    "df.sample(5)"
   ]
  },
  {
   "cell_type": "markdown",
   "id": "63222e22",
   "metadata": {},
   "source": [
    "# Pre-cleaning \n",
    "\n",
    "1. Remove the rows where `review_text` column were missing\n",
    "2. Fix `review_star` to have numeric value of ratings \n",
    "3. fix `date` to be parsed and converted into datetime object\n",
    "4. Make suring we have actual string dtype columns\n",
    "5. Convert `review_title`, `review_text`, `author`, and `product` to string types\n",
    "6. Adding Sentiment Polarity Scores for `review_text` as a new column `polarity`\n",
    "7. Adding Length of Reviews as a new column `review_len`\n",
    "8. Adding the Word Count in each Reviews as a new column `word_count`\n"
   ]
  },
  {
   "cell_type": "markdown",
   "id": "ae552e3d",
   "metadata": {},
   "source": [
    "## Remove missing values in `review_text`"
   ]
  },
  {
   "cell_type": "code",
   "execution_count": 3,
   "id": "6798cbb5",
   "metadata": {},
   "outputs": [
    {
     "data": {
      "text/plain": [
       "(17740, 7)"
      ]
     },
     "execution_count": 3,
     "metadata": {},
     "output_type": "execute_result"
    }
   ],
   "source": [
    "# original data frame dimensions before removing null values in `review_text`\n",
    "df.shape"
   ]
  },
  {
   "cell_type": "code",
   "execution_count": 4,
   "id": "12de4b94",
   "metadata": {},
   "outputs": [
    {
     "data": {
      "text/plain": [
       "(17696, 7)"
      ]
     },
     "execution_count": 4,
     "metadata": {},
     "output_type": "execute_result"
    }
   ],
   "source": [
    "# remove null values in `review_text`\n",
    "df = df[~df['review_text'].isnull()]\n",
    "\n",
    "# data frame dimensions after removing null values\n",
    "df.shape"
   ]
  },
  {
   "cell_type": "markdown",
   "id": "3d9dde04",
   "metadata": {},
   "source": [
    "## Cleaning `review_star`"
   ]
  },
  {
   "cell_type": "code",
   "execution_count": 5,
   "id": "89a76611",
   "metadata": {},
   "outputs": [
    {
     "data": {
      "text/plain": [
       "1000     5.0\n",
       "15407    5.0\n",
       "2705     5.0\n",
       "10199    5.0\n",
       "16172    3.0\n",
       "Name: review_star, dtype: float64"
      ]
     },
     "execution_count": 5,
     "metadata": {},
     "output_type": "execute_result"
    }
   ],
   "source": [
    "## extract rating from strings and convert to float type\n",
    "df['review_star'] = df['review_star'].apply(lambda x: re.findall(r'^[0-9]\\.[0-9]?', x)[0]).astype(float)\n",
    "\n",
    "# sample only 5 rows\n",
    "df['review_star'].sample(5)\n"
   ]
  },
  {
   "cell_type": "markdown",
   "id": "51987541",
   "metadata": {},
   "source": [
    "## Cleaning `date`"
   ]
  },
  {
   "cell_type": "code",
   "execution_count": 6,
   "id": "b15cdd54",
   "metadata": {},
   "outputs": [
    {
     "data": {
      "text/plain": [
       "15398    01-21-2019\n",
       "7068     01-22-2021\n",
       "8867     05-11-2020\n",
       "14425    05-18-2019\n",
       "2816     01-03-2022\n",
       "Name: date, dtype: object"
      ]
     },
     "execution_count": 6,
     "metadata": {},
     "output_type": "execute_result"
    }
   ],
   "source": [
    "# clean date of reviews to parse the actual date and convert to date-time object \n",
    "df['date'] = pd.to_datetime(df['date'].apply(lambda x: re.findall(r'(?<=on\\ ).*', x)[0])).dt.strftime('%m-%d-%Y')\n",
    "\n",
    "# sample only 5 rows\n",
    "df['date'].sample(5)"
   ]
  },
  {
   "cell_type": "markdown",
   "id": "ac091052",
   "metadata": {},
   "source": [
    "## Convert `review_title`, `review_text`, `author`, and `product` to string types"
   ]
  },
  {
   "cell_type": "code",
   "execution_count": 7,
   "id": "a59201ee",
   "metadata": {},
   "outputs": [],
   "source": [
    "# convert review title column into string type\n",
    "df['review_title'] = df['review_title'].astype(\"string\")\n",
    "\n",
    "# convert review text column into string type\n",
    "df['review_text'] = df['review_text'].astype(\"string\")\n",
    "\n",
    "# convert author column into string type\n",
    "df['author'] = df['author'].astype(\"string\")\n",
    "\n",
    "# convert product column into string type\n",
    "df['product'] = df['product'].astype(\"string\")"
   ]
  },
  {
   "cell_type": "markdown",
   "id": "f11cfbb1",
   "metadata": {},
   "source": [
    "## Adding Sentiment Polarity Scores as `polarity`"
   ]
  },
  {
   "cell_type": "code",
   "execution_count": 8,
   "id": "6791bd71",
   "metadata": {},
   "outputs": [
    {
     "data": {
      "text/plain": [
       "11382    0.018750\n",
       "13064    0.550000\n",
       "4024     0.500000\n",
       "9562    -0.083333\n",
       "14788    0.220052\n",
       "Name: polarity, dtype: float64"
      ]
     },
     "execution_count": 8,
     "metadata": {},
     "output_type": "execute_result"
    }
   ],
   "source": [
    "# create new column for sentiment polarity scores\n",
    "df['polarity'] = df['review_text'].map(lambda text: TextBlob(text).sentiment.polarity)\n",
    "\n",
    "# sample only 5 rows\n",
    "df['polarity'].sample(5)"
   ]
  },
  {
   "cell_type": "markdown",
   "id": "ea9648d6",
   "metadata": {},
   "source": [
    "### Preview 5 randomly selected reviews with the highest sentiment polarity score"
   ]
  },
  {
   "cell_type": "code",
   "execution_count": 9,
   "id": "b1965689",
   "metadata": {},
   "outputs": [
    {
     "name": "stdout",
     "output_type": "stream",
     "text": [
      "5 random reviews with the highest positive sentiment polarity: \n",
      "\n",
      "Wonderful idea for gifts\n",
      "Very happy with our Firestick\n",
      "It’s very good device for streaming!\n",
      "excellent\n",
      "Great device!\n"
     ]
    }
   ],
   "source": [
    "# Print statement\n",
    "print('5 random reviews with the highest positive sentiment polarity: \\n')\n",
    "\n",
    "# Randomly sample review texts with highest positive sentiment polarity scores\n",
    "cl = df.loc[df.polarity == 1, ['review_text']].sample(5).values\n",
    "\n",
    "# print out each one\n",
    "for c in cl:\n",
    "    print(c[0])"
   ]
  },
  {
   "cell_type": "markdown",
   "id": "31f45814",
   "metadata": {},
   "source": [
    "### Preview 5 randomly selected reviews with the most neutral sentiment polarity score"
   ]
  },
  {
   "cell_type": "code",
   "execution_count": 10,
   "id": "4b1591c7",
   "metadata": {},
   "outputs": [
    {
     "name": "stdout",
     "output_type": "stream",
     "text": [
      "5 random reviews with the most neutral sentiment(zero) polarity: \n",
      "\n",
      "No me sirvió\n",
      "Movies and sports\n",
      "I’m buying a second one. It works both all the way across the house from the WiFi router and downstairs in the basement halfway across the house from the router.\n",
      "Was a hift\n",
      "Works as expected, no issues so far\n"
     ]
    }
   ],
   "source": [
    "# Print statement\n",
    "print('5 random reviews with the most neutral sentiment(zero) polarity: \\n')\n",
    "\n",
    "# Randomly sample review texts with highest neutral sentiment polarity scores\n",
    "cl = df.loc[df.polarity == 0, ['review_text']].sample(5).values\n",
    "\n",
    "# print out each one\n",
    "for c in cl:\n",
    "    print(c[0])"
   ]
  },
  {
   "cell_type": "markdown",
   "id": "d93a367b",
   "metadata": {},
   "source": [
    "### Preview 5 randomly selected reviews with the most negative sentiment polarity score"
   ]
  },
  {
   "cell_type": "code",
   "execution_count": 11,
   "id": "f10901fc",
   "metadata": {},
   "outputs": [
    {
     "name": "stdout",
     "output_type": "stream",
     "text": [
      "5 reviews with the most negative polarity: \n",
      "\n",
      "Arrived today and it has been used! No place in description does it mention that this item was refurbished. Box wasn’t even sealed and you can tell that it has been used and returned. Very unhappy!!!\n",
      "Just awful...one of apples worst products...highly recommend going with something else\n",
      "Very annoying to use app. Have to pay for monthly fee for app.\n",
      "Customer service doesn't exist, I bought 3 of these pieces of CRAP for $50.00 and now they are going for $30.00Find some thing else to spend your money on. You can't believe the reviews. Roku will play you for a sap!!\n",
      "It’s horrible, it doesn’t work with anything, the streaming is garbage, etc. Just get an apple tv\n"
     ]
    }
   ],
   "source": [
    "# Print Statement\n",
    "print('5 reviews with the most negative polarity: \\n')\n",
    "\n",
    "# Randomly sample review texts with highest negative sentiment polarity scores\n",
    "cl = df.loc[df.polarity <= -1.0, ['review_text']].sample(5).values\n",
    "\n",
    "# Print out each one\n",
    "for c in cl:\n",
    "    print(c[0])"
   ]
  },
  {
   "cell_type": "markdown",
   "id": "76b798b9",
   "metadata": {},
   "source": [
    "## Adding Length of Reviews as `review_len`"
   ]
  },
  {
   "cell_type": "code",
   "execution_count": 12,
   "id": "6e386b66",
   "metadata": {},
   "outputs": [
    {
     "data": {
      "text/plain": [
       "14227    176\n",
       "962       70\n",
       "7460      29\n",
       "9970      48\n",
       "9181       4\n",
       "Name: review_len, dtype: int64"
      ]
     },
     "execution_count": 12,
     "metadata": {},
     "output_type": "execute_result"
    }
   ],
   "source": [
    "# create new column called review_len for length of reviews\n",
    "df['review_len'] = df['review_text'].astype(str).apply(len)\n",
    "\n",
    "# sample only 5 rows\n",
    "df['review_len'].sample(5)"
   ]
  },
  {
   "cell_type": "markdown",
   "id": "d412daf6",
   "metadata": {},
   "source": [
    "## Adding the Word Count in each Reviews as `word_count`"
   ]
  },
  {
   "cell_type": "code",
   "execution_count": 13,
   "id": "b0059610",
   "metadata": {},
   "outputs": [
    {
     "data": {
      "text/plain": [
       "7295    19\n",
       "9897    49\n",
       "1087    10\n",
       "1877    32\n",
       "2795    28\n",
       "Name: word_count, dtype: int64"
      ]
     },
     "execution_count": 13,
     "metadata": {},
     "output_type": "execute_result"
    }
   ],
   "source": [
    "# create new column called word count for number of words in each reviews\n",
    "df['word_count'] = df['review_text'].apply(lambda x: len(str(x).split()))\n",
    "\n",
    "# sample only 5 rows\n",
    "df['word_count'].sample(5)"
   ]
  },
  {
   "cell_type": "markdown",
   "id": "6531bae3",
   "metadata": {},
   "source": [
    "## Re-examine data now"
   ]
  },
  {
   "cell_type": "code",
   "execution_count": 14,
   "id": "50e83905",
   "metadata": {},
   "outputs": [
    {
     "data": {
      "text/html": [
       "<div>\n",
       "<style scoped>\n",
       "    .dataframe tbody tr th:only-of-type {\n",
       "        vertical-align: middle;\n",
       "    }\n",
       "\n",
       "    .dataframe tbody tr th {\n",
       "        vertical-align: top;\n",
       "    }\n",
       "\n",
       "    .dataframe thead th {\n",
       "        text-align: right;\n",
       "    }\n",
       "</style>\n",
       "<table border=\"1\" class=\"dataframe\">\n",
       "  <thead>\n",
       "    <tr style=\"text-align: right;\">\n",
       "      <th></th>\n",
       "      <th>review_title</th>\n",
       "      <th>review_text</th>\n",
       "      <th>review_star</th>\n",
       "      <th>date</th>\n",
       "      <th>author</th>\n",
       "      <th>page</th>\n",
       "      <th>product</th>\n",
       "      <th>polarity</th>\n",
       "      <th>review_len</th>\n",
       "      <th>word_count</th>\n",
       "    </tr>\n",
       "  </thead>\n",
       "  <tbody>\n",
       "    <tr>\n",
       "      <th>9607</th>\n",
       "      <td>Good for music</td>\n",
       "      <td>I have this hooked into a stereo and use it fo...</td>\n",
       "      <td>4.0</td>\n",
       "      <td>12-28-2020</td>\n",
       "      <td>Nathan</td>\n",
       "      <td>461</td>\n",
       "      <td>Google ChromeCast</td>\n",
       "      <td>0.458333</td>\n",
       "      <td>222</td>\n",
       "      <td>43</td>\n",
       "    </tr>\n",
       "    <tr>\n",
       "      <th>15220</th>\n",
       "      <td>Excellent Streaming Device.</td>\n",
       "      <td>The Apple TV fits right in at our house since ...</td>\n",
       "      <td>5.0</td>\n",
       "      <td>12-26-2018</td>\n",
       "      <td>William</td>\n",
       "      <td>23</td>\n",
       "      <td>Apple TV</td>\n",
       "      <td>0.228571</td>\n",
       "      <td>122</td>\n",
       "      <td>24</td>\n",
       "    </tr>\n",
       "    <tr>\n",
       "      <th>3343</th>\n",
       "      <td>Excelente</td>\n",
       "      <td>Recomendado muy buena programación</td>\n",
       "      <td>5.0</td>\n",
       "      <td>02-22-2022</td>\n",
       "      <td>Darlin Flores</td>\n",
       "      <td>335</td>\n",
       "      <td>Amazon Fire TV Stick</td>\n",
       "      <td>0.000000</td>\n",
       "      <td>34</td>\n",
       "      <td>4</td>\n",
       "    </tr>\n",
       "    <tr>\n",
       "      <th>8626</th>\n",
       "      <td>Easy to connect</td>\n",
       "      <td>Easy setup, works well with my phone.</td>\n",
       "      <td>5.0</td>\n",
       "      <td>07-26-2019</td>\n",
       "      <td>S Brum</td>\n",
       "      <td>363</td>\n",
       "      <td>Google ChromeCast</td>\n",
       "      <td>0.433333</td>\n",
       "      <td>37</td>\n",
       "      <td>7</td>\n",
       "    </tr>\n",
       "    <tr>\n",
       "      <th>14075</th>\n",
       "      <td>Bad Quality Control!</td>\n",
       "      <td>Ordered a ROKU+ about 6 months ago, worked fin...</td>\n",
       "      <td>2.0</td>\n",
       "      <td>08-06-2018</td>\n",
       "      <td>Amazon Customer</td>\n",
       "      <td>408</td>\n",
       "      <td>Roku Remote</td>\n",
       "      <td>0.027887</td>\n",
       "      <td>758</td>\n",
       "      <td>142</td>\n",
       "    </tr>\n",
       "    <tr>\n",
       "      <th>1565</th>\n",
       "      <td>tips on how to use features on firestick</td>\n",
       "      <td>Firestick is great. Picture quality really nic...</td>\n",
       "      <td>5.0</td>\n",
       "      <td>11-17-2021</td>\n",
       "      <td>Sabrina Fowler</td>\n",
       "      <td>157</td>\n",
       "      <td>Amazon Fire TV Stick</td>\n",
       "      <td>0.400000</td>\n",
       "      <td>334</td>\n",
       "      <td>59</td>\n",
       "    </tr>\n",
       "    <tr>\n",
       "      <th>8350</th>\n",
       "      <td>GREAT PRODUCT!!</td>\n",
       "      <td>IT WORKS GREAT!!!</td>\n",
       "      <td>5.0</td>\n",
       "      <td>01-19-2020</td>\n",
       "      <td>Franklin B.</td>\n",
       "      <td>336</td>\n",
       "      <td>Google ChromeCast</td>\n",
       "      <td>1.000000</td>\n",
       "      <td>17</td>\n",
       "      <td>3</td>\n",
       "    </tr>\n",
       "    <tr>\n",
       "      <th>4281</th>\n",
       "      <td>Amazing Product</td>\n",
       "      <td>It is truly amazing…..</td>\n",
       "      <td>5.0</td>\n",
       "      <td>01-08-2022</td>\n",
       "      <td>Ukesh</td>\n",
       "      <td>429</td>\n",
       "      <td>Amazon Fire TV Stick</td>\n",
       "      <td>0.000000</td>\n",
       "      <td>22</td>\n",
       "      <td>4</td>\n",
       "    </tr>\n",
       "    <tr>\n",
       "      <th>11529</th>\n",
       "      <td>Don't pay for 4k if you don't have a 4k tv</td>\n",
       "      <td>Roku is great, I love it. But if you don't hav...</td>\n",
       "      <td>5.0</td>\n",
       "      <td>10-18-2018</td>\n",
       "      <td>BillyBob</td>\n",
       "      <td>153</td>\n",
       "      <td>Roku Remote</td>\n",
       "      <td>0.359091</td>\n",
       "      <td>131</td>\n",
       "      <td>29</td>\n",
       "    </tr>\n",
       "    <tr>\n",
       "      <th>7704</th>\n",
       "      <td>Great</td>\n",
       "      <td>Works good</td>\n",
       "      <td>5.0</td>\n",
       "      <td>05-11-2021</td>\n",
       "      <td>harlan paulson</td>\n",
       "      <td>271</td>\n",
       "      <td>Google ChromeCast</td>\n",
       "      <td>0.700000</td>\n",
       "      <td>10</td>\n",
       "      <td>2</td>\n",
       "    </tr>\n",
       "  </tbody>\n",
       "</table>\n",
       "</div>"
      ],
      "text/plain": [
       "                                     review_title  \\\n",
       "9607                               Good for music   \n",
       "15220                 Excellent Streaming Device.   \n",
       "3343                                    Excelente   \n",
       "8626                              Easy to connect   \n",
       "14075                        Bad Quality Control!   \n",
       "1565     tips on how to use features on firestick   \n",
       "8350                              GREAT PRODUCT!!   \n",
       "4281                              Amazing Product   \n",
       "11529  Don't pay for 4k if you don't have a 4k tv   \n",
       "7704                                        Great   \n",
       "\n",
       "                                             review_text  review_star  \\\n",
       "9607   I have this hooked into a stereo and use it fo...          4.0   \n",
       "15220  The Apple TV fits right in at our house since ...          5.0   \n",
       "3343                  Recomendado muy buena programación          5.0   \n",
       "8626               Easy setup, works well with my phone.          5.0   \n",
       "14075  Ordered a ROKU+ about 6 months ago, worked fin...          2.0   \n",
       "1565   Firestick is great. Picture quality really nic...          5.0   \n",
       "8350                                   IT WORKS GREAT!!!          5.0   \n",
       "4281                              It is truly amazing…..          5.0   \n",
       "11529  Roku is great, I love it. But if you don't hav...          5.0   \n",
       "7704                                          Works good          5.0   \n",
       "\n",
       "             date           author  page               product  polarity  \\\n",
       "9607   12-28-2020           Nathan   461     Google ChromeCast  0.458333   \n",
       "15220  12-26-2018          William    23              Apple TV  0.228571   \n",
       "3343   02-22-2022    Darlin Flores   335  Amazon Fire TV Stick  0.000000   \n",
       "8626   07-26-2019           S Brum   363     Google ChromeCast  0.433333   \n",
       "14075  08-06-2018  Amazon Customer   408           Roku Remote  0.027887   \n",
       "1565   11-17-2021   Sabrina Fowler   157  Amazon Fire TV Stick  0.400000   \n",
       "8350   01-19-2020      Franklin B.   336     Google ChromeCast  1.000000   \n",
       "4281   01-08-2022            Ukesh   429  Amazon Fire TV Stick  0.000000   \n",
       "11529  10-18-2018         BillyBob   153           Roku Remote  0.359091   \n",
       "7704   05-11-2021   harlan paulson   271     Google ChromeCast  0.700000   \n",
       "\n",
       "       review_len  word_count  \n",
       "9607          222          43  \n",
       "15220         122          24  \n",
       "3343           34           4  \n",
       "8626           37           7  \n",
       "14075         758         142  \n",
       "1565          334          59  \n",
       "8350           17           3  \n",
       "4281           22           4  \n",
       "11529         131          29  \n",
       "7704           10           2  "
      ]
     },
     "execution_count": 14,
     "metadata": {},
     "output_type": "execute_result"
    }
   ],
   "source": [
    "# preview new clean columns with only 10 samples\n",
    "df.sample(10)"
   ]
  },
  {
   "cell_type": "markdown",
   "id": "8d7cb3ef",
   "metadata": {},
   "source": [
    "# Exploratory Data Analysis "
   ]
  },
  {
   "cell_type": "code",
   "execution_count": null,
   "id": "5f9c54f8",
   "metadata": {},
   "outputs": [],
   "source": []
  }
 ],
 "metadata": {
  "kernelspec": {
   "display_name": "Python 3.8.13 ('ads599')",
   "language": "python",
   "name": "python3"
  },
  "language_info": {
   "codemirror_mode": {
    "name": "ipython",
    "version": 3
   },
   "file_extension": ".py",
   "mimetype": "text/x-python",
   "name": "python",
   "nbconvert_exporter": "python",
   "pygments_lexer": "ipython3",
   "version": "3.8.13"
  },
  "vscode": {
   "interpreter": {
    "hash": "8fb40fb6fc083ec60bb570639d96099951c3529e4325888a92a15951c8905959"
   }
  }
 },
 "nbformat": 4,
 "nbformat_minor": 5
}
