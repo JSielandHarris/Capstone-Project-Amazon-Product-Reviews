{
 "cells": [
  {
   "cell_type": "markdown",
   "id": "ffb3ec39",
   "metadata": {},
   "source": [
    "# Packages "
   ]
  },
  {
   "cell_type": "code",
   "execution_count": 10,
   "id": "1e8a3e82",
   "metadata": {},
   "outputs": [],
   "source": [
    "import pandas as pd # pandas package\n",
    "import numpy as np # numpy package\n",
    "import matplotlib.pyplot as plt # matplotlib package\n",
    "import seaborn as sns # seaborn package\n",
    "import plotly \n",
    "from pathlib import Path # path package\n",
    "import re #regex package\n",
    "from textblob import TextBlob #import textblob package"
   ]
  },
  {
   "cell_type": "markdown",
   "id": "1e070fc1",
   "metadata": {},
   "source": [
    "# Load Data set"
   ]
  },
  {
   "cell_type": "code",
   "execution_count": 11,
   "id": "2b4dd87f",
   "metadata": {},
   "outputs": [
    {
     "data": {
      "text/html": [
       "<div>\n",
       "<style scoped>\n",
       "    .dataframe tbody tr th:only-of-type {\n",
       "        vertical-align: middle;\n",
       "    }\n",
       "\n",
       "    .dataframe tbody tr th {\n",
       "        vertical-align: top;\n",
       "    }\n",
       "\n",
       "    .dataframe thead th {\n",
       "        text-align: right;\n",
       "    }\n",
       "</style>\n",
       "<table border=\"1\" class=\"dataframe\">\n",
       "  <thead>\n",
       "    <tr style=\"text-align: right;\">\n",
       "      <th></th>\n",
       "      <th>review_title</th>\n",
       "      <th>review_text</th>\n",
       "      <th>review_star</th>\n",
       "      <th>date</th>\n",
       "      <th>author</th>\n",
       "      <th>page</th>\n",
       "      <th>product</th>\n",
       "    </tr>\n",
       "  </thead>\n",
       "  <tbody>\n",
       "    <tr>\n",
       "      <th>12871</th>\n",
       "      <td>Meets my need exactly!</td>\n",
       "      <td>This Roku stick package had everything needed ...</td>\n",
       "      <td>5.0 out of 5 stars</td>\n",
       "      <td>Reviewed in the United States on December 5, 2019</td>\n",
       "      <td>RAM</td>\n",
       "      <td>288</td>\n",
       "      <td>Roku Remote</td>\n",
       "    </tr>\n",
       "    <tr>\n",
       "      <th>16350</th>\n",
       "      <td>Nice</td>\n",
       "      <td>We upgrade our Apple TV and this works very si...</td>\n",
       "      <td>4.0 out of 5 stars</td>\n",
       "      <td>Reviewed in the United States on December 25, ...</td>\n",
       "      <td>Dana Hornung</td>\n",
       "      <td>136</td>\n",
       "      <td>Apple TV</td>\n",
       "    </tr>\n",
       "    <tr>\n",
       "      <th>16546</th>\n",
       "      <td>Apple TV 4K (64GB, Latest Model)</td>\n",
       "      <td>Wordies Great!!</td>\n",
       "      <td>5.0 out of 5 stars</td>\n",
       "      <td>Reviewed in the United States on December 14, ...</td>\n",
       "      <td>Marion DeMar Aller III</td>\n",
       "      <td>155</td>\n",
       "      <td>Apple TV</td>\n",
       "    </tr>\n",
       "    <tr>\n",
       "      <th>5713</th>\n",
       "      <td>Works great!</td>\n",
       "      <td>Great product!</td>\n",
       "      <td>5.0 out of 5 stars</td>\n",
       "      <td>Reviewed in the United States on May 28, 2020</td>\n",
       "      <td>Megan</td>\n",
       "      <td>72</td>\n",
       "      <td>Google ChromeCast</td>\n",
       "    </tr>\n",
       "    <tr>\n",
       "      <th>4135</th>\n",
       "      <td>Good Seller....!!!!!</td>\n",
       "      <td>Very Fast</td>\n",
       "      <td>5.0 out of 5 stars</td>\n",
       "      <td>Reviewed in the United States on February 22, ...</td>\n",
       "      <td>Rodrigo</td>\n",
       "      <td>414</td>\n",
       "      <td>Amazon Fire TV Stick</td>\n",
       "    </tr>\n",
       "  </tbody>\n",
       "</table>\n",
       "</div>"
      ],
      "text/plain": [
       "                           review_title  \\\n",
       "12871            Meets my need exactly!   \n",
       "16350                              Nice   \n",
       "16546  Apple TV 4K (64GB, Latest Model)   \n",
       "5713                       Works great!   \n",
       "4135               Good Seller....!!!!!   \n",
       "\n",
       "                                             review_text         review_star  \\\n",
       "12871  This Roku stick package had everything needed ...  5.0 out of 5 stars   \n",
       "16350  We upgrade our Apple TV and this works very si...  4.0 out of 5 stars   \n",
       "16546                                    Wordies Great!!  5.0 out of 5 stars   \n",
       "5713                                      Great product!  5.0 out of 5 stars   \n",
       "4135                                           Very Fast  5.0 out of 5 stars   \n",
       "\n",
       "                                                    date  \\\n",
       "12871  Reviewed in the United States on December 5, 2019   \n",
       "16350  Reviewed in the United States on December 25, ...   \n",
       "16546  Reviewed in the United States on December 14, ...   \n",
       "5713       Reviewed in the United States on May 28, 2020   \n",
       "4135   Reviewed in the United States on February 22, ...   \n",
       "\n",
       "                       author  page               product  \n",
       "12871                     RAM   288           Roku Remote  \n",
       "16350            Dana Hornung   136              Apple TV  \n",
       "16546  Marion DeMar Aller III   155              Apple TV  \n",
       "5713                    Megan    72     Google ChromeCast  \n",
       "4135                  Rodrigo   414  Amazon Fire TV Stick  "
      ]
     },
     "execution_count": 11,
     "metadata": {},
     "output_type": "execute_result"
    }
   ],
   "source": [
    "df = pd.read_csv(Path(r\"../Data/Merged Data/merged_data.csv\"))\n",
    "df.sample(5)"
   ]
  },
  {
   "cell_type": "markdown",
   "id": "63222e22",
   "metadata": {},
   "source": [
    "# Pre-cleaning \n",
    "\n",
    "1. Remove the rows where `review_text` column were missing\n",
    "2. Fix `review_star` to have numeric value of ratings \n",
    "3. fix `date` to be parsed and converted into datetime object\n",
    "4. Make suring we have actual string dtype columns\n",
    "5. Convert `review_title`, `review_text`, `author`, and `product` to string types\n",
    "6. Adding Sentiment Polarity Scores for `review_text` as a new column `polarity`\n",
    "7. Adding Length of Reviews as a new column `review_len`\n",
    "8. Adding the Word Count in each Reviews as a new column `word_count`\n"
   ]
  },
  {
   "cell_type": "markdown",
   "id": "ae552e3d",
   "metadata": {},
   "source": [
    "## Remove missing values in `review_text`"
   ]
  },
  {
   "cell_type": "code",
   "execution_count": 12,
   "id": "6798cbb5",
   "metadata": {},
   "outputs": [
    {
     "data": {
      "text/plain": [
       "(17740, 7)"
      ]
     },
     "execution_count": 12,
     "metadata": {},
     "output_type": "execute_result"
    }
   ],
   "source": [
    "df.shape"
   ]
  },
  {
   "cell_type": "code",
   "execution_count": 13,
   "id": "12de4b94",
   "metadata": {},
   "outputs": [
    {
     "data": {
      "text/plain": [
       "(17696, 7)"
      ]
     },
     "execution_count": 13,
     "metadata": {},
     "output_type": "execute_result"
    }
   ],
   "source": [
    "df = df[~df['review_text'].isnull()]\n",
    "df.shape"
   ]
  },
  {
   "cell_type": "markdown",
   "id": "3d9dde04",
   "metadata": {},
   "source": [
    "## Cleaning `review_star`"
   ]
  },
  {
   "cell_type": "code",
   "execution_count": 14,
   "id": "89a76611",
   "metadata": {},
   "outputs": [
    {
     "data": {
      "text/plain": [
       "3327     5.0\n",
       "14705    5.0\n",
       "4515     5.0\n",
       "10000    5.0\n",
       "455      5.0\n",
       "Name: review_star, dtype: float64"
      ]
     },
     "execution_count": 14,
     "metadata": {},
     "output_type": "execute_result"
    }
   ],
   "source": [
    "## extract rating from strings and convert to float type\n",
    "df['review_star'] = df['review_star'].apply(lambda x: re.findall(r'^[0-9]\\.[0-9]?', x)[0]).astype(float)\n",
    "\n",
    "# sample only 5 rows\n",
    "df['review_star'].sample(5)\n"
   ]
  },
  {
   "cell_type": "markdown",
   "id": "51987541",
   "metadata": {},
   "source": [
    "## Cleaning `date`"
   ]
  },
  {
   "cell_type": "code",
   "execution_count": 15,
   "id": "b15cdd54",
   "metadata": {},
   "outputs": [
    {
     "data": {
      "text/plain": [
       "3735     12-20-2021\n",
       "16761    07-28-2019\n",
       "4368     03-20-2022\n",
       "4008     01-13-2022\n",
       "13843    12-16-2020\n",
       "Name: date, dtype: object"
      ]
     },
     "execution_count": 15,
     "metadata": {},
     "output_type": "execute_result"
    }
   ],
   "source": [
    "# clean date of reviews to parse the actual date and convert to date-time object \n",
    "df['date'] = pd.to_datetime(df['date'].apply(lambda x: re.findall(r'(?<=on\\ ).*', x)[0])).dt.strftime('%m-%d-%Y')\n",
    "\n",
    "# sample only 5 rows\n",
    "df['date'].sample(5)"
   ]
  },
  {
   "cell_type": "markdown",
   "id": "ac091052",
   "metadata": {},
   "source": [
    "## Convert `review_title`, `review_text`, `author`, and `product` to string types"
   ]
  },
  {
   "cell_type": "code",
   "execution_count": 16,
   "id": "a59201ee",
   "metadata": {},
   "outputs": [],
   "source": [
    "# convert review title column into string type\n",
    "df['review_title'] = df['review_title'].astype(\"string\")\n",
    "\n",
    "# convert review text column into string type\n",
    "df['review_text'] = df['review_text'].astype(\"string\")\n",
    "\n",
    "# convert author column into string type\n",
    "df['author'] = df['author'].astype(\"string\")\n",
    "\n",
    "# convert product column into string type\n",
    "df['product'] = df['product'].astype(\"string\")"
   ]
  },
  {
   "cell_type": "markdown",
   "id": "f11cfbb1",
   "metadata": {},
   "source": [
    "## Adding Sentiment Polarity Scores as `polarity`"
   ]
  },
  {
   "cell_type": "code",
   "execution_count": 17,
   "id": "6791bd71",
   "metadata": {},
   "outputs": [
    {
     "data": {
      "text/plain": [
       "1777     0.58\n",
       "12795    1.00\n",
       "8540     0.00\n",
       "5250     1.00\n",
       "1396     0.80\n",
       "Name: polarity, dtype: float64"
      ]
     },
     "execution_count": 17,
     "metadata": {},
     "output_type": "execute_result"
    }
   ],
   "source": [
    "# create new column for sentiment polarity scores\n",
    "df['polarity'] = df['review_text'].map(lambda text: TextBlob(text).sentiment.polarity)\n",
    "\n",
    "# sample only 5 rows\n",
    "df['polarity'].sample(5)"
   ]
  },
  {
   "cell_type": "markdown",
   "id": "76b798b9",
   "metadata": {},
   "source": [
    "## Adding Length of Reviews as `review_len`"
   ]
  },
  {
   "cell_type": "code",
   "execution_count": 18,
   "id": "6e386b66",
   "metadata": {},
   "outputs": [
    {
     "data": {
      "text/plain": [
       "8517      13\n",
       "1360      40\n",
       "1009      47\n",
       "10070    883\n",
       "5082     257\n",
       "Name: review_len, dtype: int64"
      ]
     },
     "execution_count": 18,
     "metadata": {},
     "output_type": "execute_result"
    }
   ],
   "source": [
    "# create new column called review_len for length of reviews\n",
    "df['review_len'] = df['review_text'].astype(str).apply(len)\n",
    "\n",
    "# sample only 5 rows\n",
    "df['review_len'].sample(5)"
   ]
  },
  {
   "cell_type": "markdown",
   "id": "d412daf6",
   "metadata": {},
   "source": [
    "## Adding the Word Count in each Reviews as `word_count`"
   ]
  },
  {
   "cell_type": "code",
   "execution_count": 19,
   "id": "b0059610",
   "metadata": {},
   "outputs": [
    {
     "data": {
      "text/plain": [
       "989       8\n",
       "3401      3\n",
       "901      43\n",
       "9775     38\n",
       "11462    19\n",
       "Name: word_count, dtype: int64"
      ]
     },
     "execution_count": 19,
     "metadata": {},
     "output_type": "execute_result"
    }
   ],
   "source": [
    "# create new column called word count for number of words in each reviews\n",
    "df['word_count'] = df['review_text'].apply(lambda x: len(str(x).split()))\n",
    "\n",
    "# sample only 5 rows\n",
    "df['word_count'].sample(5)"
   ]
  },
  {
   "cell_type": "markdown",
   "id": "6531bae3",
   "metadata": {},
   "source": [
    "## Re-examine data now"
   ]
  },
  {
   "cell_type": "code",
   "execution_count": 20,
   "id": "50e83905",
   "metadata": {},
   "outputs": [
    {
     "data": {
      "text/html": [
       "<div>\n",
       "<style scoped>\n",
       "    .dataframe tbody tr th:only-of-type {\n",
       "        vertical-align: middle;\n",
       "    }\n",
       "\n",
       "    .dataframe tbody tr th {\n",
       "        vertical-align: top;\n",
       "    }\n",
       "\n",
       "    .dataframe thead th {\n",
       "        text-align: right;\n",
       "    }\n",
       "</style>\n",
       "<table border=\"1\" class=\"dataframe\">\n",
       "  <thead>\n",
       "    <tr style=\"text-align: right;\">\n",
       "      <th></th>\n",
       "      <th>review_title</th>\n",
       "      <th>review_text</th>\n",
       "      <th>review_star</th>\n",
       "      <th>date</th>\n",
       "      <th>author</th>\n",
       "      <th>page</th>\n",
       "      <th>product</th>\n",
       "      <th>polarity</th>\n",
       "      <th>review_len</th>\n",
       "      <th>word_count</th>\n",
       "    </tr>\n",
       "  </thead>\n",
       "  <tbody>\n",
       "    <tr>\n",
       "      <th>3161</th>\n",
       "      <td>Like it very much; easy to use</td>\n",
       "      <td>Streaming great. Haven’t used voice or Alexa.</td>\n",
       "      <td>5.0</td>\n",
       "      <td>06-06-2022</td>\n",
       "      <td>George Waterhouse</td>\n",
       "      <td>317</td>\n",
       "      <td>Amazon Fire TV Stick</td>\n",
       "      <td>0.800000</td>\n",
       "      <td>45</td>\n",
       "      <td>7</td>\n",
       "    </tr>\n",
       "    <tr>\n",
       "      <th>5396</th>\n",
       "      <td>Works great</td>\n",
       "      <td>Works as advertised</td>\n",
       "      <td>5.0</td>\n",
       "      <td>03-07-2022</td>\n",
       "      <td>J. Parks</td>\n",
       "      <td>40</td>\n",
       "      <td>Google ChromeCast</td>\n",
       "      <td>0.000000</td>\n",
       "      <td>19</td>\n",
       "      <td>3</td>\n",
       "    </tr>\n",
       "    <tr>\n",
       "      <th>17236</th>\n",
       "      <td>Money saver</td>\n",
       "      <td>I absolutely love this product. Every night I ...</td>\n",
       "      <td>5.0</td>\n",
       "      <td>02-05-2018</td>\n",
       "      <td>Cameron Iz</td>\n",
       "      <td>224</td>\n",
       "      <td>Apple TV</td>\n",
       "      <td>0.190278</td>\n",
       "      <td>573</td>\n",
       "      <td>112</td>\n",
       "    </tr>\n",
       "    <tr>\n",
       "      <th>4434</th>\n",
       "      <td>Amazing</td>\n",
       "      <td>I like everything about it</td>\n",
       "      <td>5.0</td>\n",
       "      <td>04-16-2022</td>\n",
       "      <td>Daniel Perez</td>\n",
       "      <td>444</td>\n",
       "      <td>Amazon Fire TV Stick</td>\n",
       "      <td>0.000000</td>\n",
       "      <td>26</td>\n",
       "      <td>5</td>\n",
       "    </tr>\n",
       "    <tr>\n",
       "      <th>4004</th>\n",
       "      <td>Pleased</td>\n",
       "      <td>Love everything about my Firestick.</td>\n",
       "      <td>5.0</td>\n",
       "      <td>03-24-2022</td>\n",
       "      <td>Barbara</td>\n",
       "      <td>401</td>\n",
       "      <td>Amazon Fire TV Stick</td>\n",
       "      <td>0.500000</td>\n",
       "      <td>35</td>\n",
       "      <td>5</td>\n",
       "    </tr>\n",
       "    <tr>\n",
       "      <th>4061</th>\n",
       "      <td>Luvbug</td>\n",
       "      <td>I’ve been enjoying the firestick</td>\n",
       "      <td>5.0</td>\n",
       "      <td>03-18-2022</td>\n",
       "      <td>Lah111320</td>\n",
       "      <td>407</td>\n",
       "      <td>Amazon Fire TV Stick</td>\n",
       "      <td>0.500000</td>\n",
       "      <td>32</td>\n",
       "      <td>5</td>\n",
       "    </tr>\n",
       "    <tr>\n",
       "      <th>16423</th>\n",
       "      <td>The Apple TV is slow.</td>\n",
       "      <td>The Apple TV is slow and the remote does not a...</td>\n",
       "      <td>2.0</td>\n",
       "      <td>05-14-2019</td>\n",
       "      <td>Keith Cannada</td>\n",
       "      <td>143</td>\n",
       "      <td>Apple TV</td>\n",
       "      <td>-0.237500</td>\n",
       "      <td>157</td>\n",
       "      <td>30</td>\n",
       "    </tr>\n",
       "    <tr>\n",
       "      <th>11641</th>\n",
       "      <td>Great way to watch TV. Awesome!!!</td>\n",
       "      <td>Soon as it arrived, I put it on the kitchen TV...</td>\n",
       "      <td>5.0</td>\n",
       "      <td>03-12-2018</td>\n",
       "      <td>lonlives</td>\n",
       "      <td>165</td>\n",
       "      <td>Roku Remote</td>\n",
       "      <td>0.100000</td>\n",
       "      <td>159</td>\n",
       "      <td>28</td>\n",
       "    </tr>\n",
       "    <tr>\n",
       "      <th>17049</th>\n",
       "      <td>Advertising is Wrong</td>\n",
       "      <td>This product advertising is wrong! This is NOT...</td>\n",
       "      <td>1.0</td>\n",
       "      <td>06-21-2021</td>\n",
       "      <td>William Mazejko</td>\n",
       "      <td>205</td>\n",
       "      <td>Apple TV</td>\n",
       "      <td>-0.111111</td>\n",
       "      <td>113</td>\n",
       "      <td>20</td>\n",
       "    </tr>\n",
       "    <tr>\n",
       "      <th>1160</th>\n",
       "      <td>Easy to Install</td>\n",
       "      <td>Easy to Install. I like the user interface as ...</td>\n",
       "      <td>5.0</td>\n",
       "      <td>03-13-2022</td>\n",
       "      <td>Adrienne A</td>\n",
       "      <td>117</td>\n",
       "      <td>Amazon Fire TV Stick</td>\n",
       "      <td>0.433333</td>\n",
       "      <td>51</td>\n",
       "      <td>10</td>\n",
       "    </tr>\n",
       "  </tbody>\n",
       "</table>\n",
       "</div>"
      ],
      "text/plain": [
       "                            review_title  \\\n",
       "3161      Like it very much; easy to use   \n",
       "5396                         Works great   \n",
       "17236                        Money saver   \n",
       "4434                             Amazing   \n",
       "4004                             Pleased   \n",
       "4061                              Luvbug   \n",
       "16423              The Apple TV is slow.   \n",
       "11641  Great way to watch TV. Awesome!!!   \n",
       "17049               Advertising is Wrong   \n",
       "1160                     Easy to Install   \n",
       "\n",
       "                                             review_text  review_star  \\\n",
       "3161       Streaming great. Haven’t used voice or Alexa.          5.0   \n",
       "5396                                 Works as advertised          5.0   \n",
       "17236  I absolutely love this product. Every night I ...          5.0   \n",
       "4434                          I like everything about it          5.0   \n",
       "4004                 Love everything about my Firestick.          5.0   \n",
       "4061                    I’ve been enjoying the firestick          5.0   \n",
       "16423  The Apple TV is slow and the remote does not a...          2.0   \n",
       "11641  Soon as it arrived, I put it on the kitchen TV...          5.0   \n",
       "17049  This product advertising is wrong! This is NOT...          1.0   \n",
       "1160   Easy to Install. I like the user interface as ...          5.0   \n",
       "\n",
       "             date             author  page               product  polarity  \\\n",
       "3161   06-06-2022  George Waterhouse   317  Amazon Fire TV Stick  0.800000   \n",
       "5396   03-07-2022           J. Parks    40     Google ChromeCast  0.000000   \n",
       "17236  02-05-2018         Cameron Iz   224              Apple TV  0.190278   \n",
       "4434   04-16-2022       Daniel Perez   444  Amazon Fire TV Stick  0.000000   \n",
       "4004   03-24-2022            Barbara   401  Amazon Fire TV Stick  0.500000   \n",
       "4061   03-18-2022          Lah111320   407  Amazon Fire TV Stick  0.500000   \n",
       "16423  05-14-2019      Keith Cannada   143              Apple TV -0.237500   \n",
       "11641  03-12-2018           lonlives   165           Roku Remote  0.100000   \n",
       "17049  06-21-2021    William Mazejko   205              Apple TV -0.111111   \n",
       "1160   03-13-2022         Adrienne A   117  Amazon Fire TV Stick  0.433333   \n",
       "\n",
       "       review_len  word_count  \n",
       "3161           45           7  \n",
       "5396           19           3  \n",
       "17236         573         112  \n",
       "4434           26           5  \n",
       "4004           35           5  \n",
       "4061           32           5  \n",
       "16423         157          30  \n",
       "11641         159          28  \n",
       "17049         113          20  \n",
       "1160           51          10  "
      ]
     },
     "execution_count": 20,
     "metadata": {},
     "output_type": "execute_result"
    }
   ],
   "source": [
    "# preview new clean columns with only 10 samples\n",
    "df.sample(10)"
   ]
  },
  {
   "cell_type": "markdown",
   "id": "8d7cb3ef",
   "metadata": {},
   "source": [
    "# Exploratory Data Analysis "
   ]
  },
  {
   "cell_type": "code",
   "execution_count": null,
   "id": "5f9c54f8",
   "metadata": {},
   "outputs": [],
   "source": []
  }
 ],
 "metadata": {
  "kernelspec": {
   "display_name": "Python 3.8.13 ('ads599')",
   "language": "python",
   "name": "python3"
  },
  "language_info": {
   "codemirror_mode": {
    "name": "ipython",
    "version": 3
   },
   "file_extension": ".py",
   "mimetype": "text/x-python",
   "name": "python",
   "nbconvert_exporter": "python",
   "pygments_lexer": "ipython3",
   "version": "3.8.13"
  },
  "vscode": {
   "interpreter": {
    "hash": "8fb40fb6fc083ec60bb570639d96099951c3529e4325888a92a15951c8905959"
   }
  }
 },
 "nbformat": 4,
 "nbformat_minor": 5
}
