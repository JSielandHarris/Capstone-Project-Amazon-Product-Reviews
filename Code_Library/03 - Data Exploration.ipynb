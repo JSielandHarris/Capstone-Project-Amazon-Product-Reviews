{
 "cells": [
  {
   "cell_type": "markdown",
   "id": "ffb3ec39",
   "metadata": {},
   "source": [
    "# Packages "
   ]
  },
  {
   "cell_type": "code",
   "execution_count": 6,
   "id": "1e8a3e82",
   "metadata": {},
   "outputs": [],
   "source": [
    "import pandas as pd # pandas package\n",
    "import numpy as np # numpy package\n",
    "from pathlib import Path # path package\n",
    "import re #regex package"
   ]
  },
  {
   "cell_type": "markdown",
   "id": "1e070fc1",
   "metadata": {},
   "source": [
    "# Load Data set"
   ]
  },
  {
   "cell_type": "code",
   "execution_count": 7,
   "id": "2b4dd87f",
   "metadata": {},
   "outputs": [
    {
     "data": {
      "text/html": [
       "<div>\n",
       "<style scoped>\n",
       "    .dataframe tbody tr th:only-of-type {\n",
       "        vertical-align: middle;\n",
       "    }\n",
       "\n",
       "    .dataframe tbody tr th {\n",
       "        vertical-align: top;\n",
       "    }\n",
       "\n",
       "    .dataframe thead th {\n",
       "        text-align: right;\n",
       "    }\n",
       "</style>\n",
       "<table border=\"1\" class=\"dataframe\">\n",
       "  <thead>\n",
       "    <tr style=\"text-align: right;\">\n",
       "      <th></th>\n",
       "      <th>review_title</th>\n",
       "      <th>review_text</th>\n",
       "      <th>review_star</th>\n",
       "      <th>date</th>\n",
       "      <th>author</th>\n",
       "      <th>page</th>\n",
       "      <th>product</th>\n",
       "    </tr>\n",
       "  </thead>\n",
       "  <tbody>\n",
       "    <tr>\n",
       "      <th>15716</th>\n",
       "      <td>If you like to watch content from your IPhone ...</td>\n",
       "      <td>I have owned IPhones for years. I wish I had p...</td>\n",
       "      <td>5.0 out of 5 stars</td>\n",
       "      <td>Reviewed in the United States on January 17, 2019</td>\n",
       "      <td>NY Consumer</td>\n",
       "      <td>72</td>\n",
       "      <td>Apple TV</td>\n",
       "    </tr>\n",
       "    <tr>\n",
       "      <th>9441</th>\n",
       "      <td>Will never regret it buying this.</td>\n",
       "      <td>really good product easy to use but i like the...</td>\n",
       "      <td>4.0 out of 5 stars</td>\n",
       "      <td>Reviewed in the United States on January 14, 2020</td>\n",
       "      <td>Yessenia Luna Valdez</td>\n",
       "      <td>445</td>\n",
       "      <td>Google ChromeCast</td>\n",
       "    </tr>\n",
       "    <tr>\n",
       "      <th>9923</th>\n",
       "      <td>Great option for non smart TVs</td>\n",
       "      <td>It works great 99% of the time there are only ...</td>\n",
       "      <td>4.0 out of 5 stars</td>\n",
       "      <td>Reviewed in the United States on March 1, 2019</td>\n",
       "      <td>DJDre</td>\n",
       "      <td>493</td>\n",
       "      <td>Google ChromeCast</td>\n",
       "    </tr>\n",
       "    <tr>\n",
       "      <th>15289</th>\n",
       "      <td>Fantastic!</td>\n",
       "      <td>Always amazing products from Apple. Just FYI t...</td>\n",
       "      <td>5.0 out of 5 stars</td>\n",
       "      <td>Reviewed in the United States on February 25, ...</td>\n",
       "      <td>Christopher Vaughn</td>\n",
       "      <td>29</td>\n",
       "      <td>Apple TV</td>\n",
       "    </tr>\n",
       "    <tr>\n",
       "      <th>11401</th>\n",
       "      <td>ROKU DO BE THE BEST</td>\n",
       "      <td>The best purchase I’ve made, its easy to use a...</td>\n",
       "      <td>5.0 out of 5 stars</td>\n",
       "      <td>Reviewed in the United States on May 21, 2022</td>\n",
       "      <td>Anna</td>\n",
       "      <td>141</td>\n",
       "      <td>Roku Remote</td>\n",
       "    </tr>\n",
       "  </tbody>\n",
       "</table>\n",
       "</div>"
      ],
      "text/plain": [
       "                                            review_title  \\\n",
       "15716  If you like to watch content from your IPhone ...   \n",
       "9441                   Will never regret it buying this.   \n",
       "9923                      Great option for non smart TVs   \n",
       "15289                                         Fantastic!   \n",
       "11401                                ROKU DO BE THE BEST   \n",
       "\n",
       "                                             review_text         review_star  \\\n",
       "15716  I have owned IPhones for years. I wish I had p...  5.0 out of 5 stars   \n",
       "9441   really good product easy to use but i like the...  4.0 out of 5 stars   \n",
       "9923   It works great 99% of the time there are only ...  4.0 out of 5 stars   \n",
       "15289  Always amazing products from Apple. Just FYI t...  5.0 out of 5 stars   \n",
       "11401  The best purchase I’ve made, its easy to use a...  5.0 out of 5 stars   \n",
       "\n",
       "                                                    date  \\\n",
       "15716  Reviewed in the United States on January 17, 2019   \n",
       "9441   Reviewed in the United States on January 14, 2020   \n",
       "9923      Reviewed in the United States on March 1, 2019   \n",
       "15289  Reviewed in the United States on February 25, ...   \n",
       "11401      Reviewed in the United States on May 21, 2022   \n",
       "\n",
       "                     author  page            product  \n",
       "15716           NY Consumer    72           Apple TV  \n",
       "9441   Yessenia Luna Valdez   445  Google ChromeCast  \n",
       "9923                  DJDre   493  Google ChromeCast  \n",
       "15289    Christopher Vaughn    29           Apple TV  \n",
       "11401                  Anna   141        Roku Remote  "
      ]
     },
     "execution_count": 7,
     "metadata": {},
     "output_type": "execute_result"
    }
   ],
   "source": [
    "df = pd.read_csv(Path(r\"../Data/Merged Data/merged_data.csv\"))\n",
    "df.sample(5)"
   ]
  },
  {
   "cell_type": "markdown",
   "id": "63222e22",
   "metadata": {},
   "source": [
    "# Pre-cleaning \n",
    "\n",
    "1. Fix `review_star` to have numeric value of ratings \n",
    "2. fix `date` to be parsed and converted into datetime object"
   ]
  },
  {
   "cell_type": "markdown",
   "id": "3d9dde04",
   "metadata": {},
   "source": [
    "## Cleaning `review_star`"
   ]
  },
  {
   "cell_type": "code",
   "execution_count": 8,
   "id": "89a76611",
   "metadata": {},
   "outputs": [
    {
     "data": {
      "text/plain": [
       "13371    5.0\n",
       "4902     5.0\n",
       "7963     5.0\n",
       "3920     5.0\n",
       "10023    5.0\n",
       "Name: review_star, dtype: float64"
      ]
     },
     "execution_count": 8,
     "metadata": {},
     "output_type": "execute_result"
    }
   ],
   "source": [
    "## extract rating from strings and convert to float type\n",
    "df['review_star'] = df['review_star'].apply(lambda x: re.findall(r'^[0-9]\\.[0-9]?', x)[0]).astype(float)\n",
    "\n",
    "# sample only 5 rows\n",
    "df['review_star'].sample(5)\n"
   ]
  },
  {
   "cell_type": "markdown",
   "id": "51987541",
   "metadata": {},
   "source": [
    "## Cleaning `date`"
   ]
  },
  {
   "cell_type": "code",
   "execution_count": 9,
   "id": "b15cdd54",
   "metadata": {},
   "outputs": [
    {
     "data": {
      "text/plain": [
       "6218     05.22.2019\n",
       "4055     01.10.2022\n",
       "12405    07.27.2021\n",
       "16872    10.01.2019\n",
       "7556     12.16.2019\n",
       "Name: date, dtype: object"
      ]
     },
     "execution_count": 9,
     "metadata": {},
     "output_type": "execute_result"
    }
   ],
   "source": [
    "# clean date of reviews to parse the actual date and convert to date-time object \n",
    "df['date'] = pd.to_datetime(df['date'].apply(lambda x: re.findall(r'(?<=on\\ ).*', x)[0])).dt.strftime('%m.%d.%Y')\n",
    "\n",
    "# sample only 5 rows\n",
    "df['date'].sample(5)"
   ]
  },
  {
   "cell_type": "markdown",
   "id": "6531bae3",
   "metadata": {},
   "source": [
    "## Re-examine data now"
   ]
  },
  {
   "cell_type": "code",
   "execution_count": 10,
   "id": "50e83905",
   "metadata": {},
   "outputs": [
    {
     "data": {
      "text/html": [
       "<div>\n",
       "<style scoped>\n",
       "    .dataframe tbody tr th:only-of-type {\n",
       "        vertical-align: middle;\n",
       "    }\n",
       "\n",
       "    .dataframe tbody tr th {\n",
       "        vertical-align: top;\n",
       "    }\n",
       "\n",
       "    .dataframe thead th {\n",
       "        text-align: right;\n",
       "    }\n",
       "</style>\n",
       "<table border=\"1\" class=\"dataframe\">\n",
       "  <thead>\n",
       "    <tr style=\"text-align: right;\">\n",
       "      <th></th>\n",
       "      <th>review_title</th>\n",
       "      <th>review_text</th>\n",
       "      <th>review_star</th>\n",
       "      <th>date</th>\n",
       "      <th>author</th>\n",
       "      <th>page</th>\n",
       "      <th>product</th>\n",
       "    </tr>\n",
       "  </thead>\n",
       "  <tbody>\n",
       "    <tr>\n",
       "      <th>1760</th>\n",
       "      <td>Bought 2</td>\n",
       "      <td>They work good</td>\n",
       "      <td>5.0</td>\n",
       "      <td>01.22.2022</td>\n",
       "      <td>Kswis76</td>\n",
       "      <td>177</td>\n",
       "      <td>Amazon Fire TV Stick</td>\n",
       "    </tr>\n",
       "    <tr>\n",
       "      <th>4648</th>\n",
       "      <td>Nothing</td>\n",
       "      <td>It’s nice. I love it</td>\n",
       "      <td>5.0</td>\n",
       "      <td>11.17.2021</td>\n",
       "      <td>Amazon Customer</td>\n",
       "      <td>465</td>\n",
       "      <td>Amazon Fire TV Stick</td>\n",
       "    </tr>\n",
       "    <tr>\n",
       "      <th>9915</th>\n",
       "      <td>&lt;U+0001F9D0&gt;&lt;U+0001F9D0&gt;&lt;U+0001F9D0&gt; where's m...</td>\n",
       "      <td>I need a remote control for it I try mouse not...</td>\n",
       "      <td>3.0</td>\n",
       "      <td>03.10.2021</td>\n",
       "      <td>Alain B.</td>\n",
       "      <td>492</td>\n",
       "      <td>Google ChromeCast</td>\n",
       "    </tr>\n",
       "    <tr>\n",
       "      <th>3407</th>\n",
       "      <td>It's hooked up on 55 inch TV LG nino cell 2021...</td>\n",
       "      <td>I can't take a picture</td>\n",
       "      <td>5.0</td>\n",
       "      <td>03.13.2022</td>\n",
       "      <td>Ronnie cleeton</td>\n",
       "      <td>341</td>\n",
       "      <td>Amazon Fire TV Stick</td>\n",
       "    </tr>\n",
       "    <tr>\n",
       "      <th>2045</th>\n",
       "      <td>Vast improvement</td>\n",
       "      <td>The voice recognition with Alexa is a big plus...</td>\n",
       "      <td>5.0</td>\n",
       "      <td>12.09.2021</td>\n",
       "      <td>Van C. Seagraves</td>\n",
       "      <td>205</td>\n",
       "      <td>Amazon Fire TV Stick</td>\n",
       "    </tr>\n",
       "    <tr>\n",
       "      <th>12871</th>\n",
       "      <td>Meets my need exactly!</td>\n",
       "      <td>This Roku stick package had everything needed ...</td>\n",
       "      <td>5.0</td>\n",
       "      <td>12.05.2019</td>\n",
       "      <td>RAM</td>\n",
       "      <td>288</td>\n",
       "      <td>Roku Remote</td>\n",
       "    </tr>\n",
       "    <tr>\n",
       "      <th>16859</th>\n",
       "      <td>Intuitive &amp; effective</td>\n",
       "      <td>The best of all the devices I’ve tested.</td>\n",
       "      <td>5.0</td>\n",
       "      <td>07.08.2019</td>\n",
       "      <td>Jeff Frederes</td>\n",
       "      <td>186</td>\n",
       "      <td>Apple TV</td>\n",
       "    </tr>\n",
       "    <tr>\n",
       "      <th>4296</th>\n",
       "      <td>Works great</td>\n",
       "      <td>I love the direct Netflix button</td>\n",
       "      <td>5.0</td>\n",
       "      <td>03.20.2022</td>\n",
       "      <td>Caitlyn Mckeen</td>\n",
       "      <td>430</td>\n",
       "      <td>Amazon Fire TV Stick</td>\n",
       "    </tr>\n",
       "    <tr>\n",
       "      <th>6248</th>\n",
       "      <td>Ok</td>\n",
       "      <td>Does need a little better installation instruc...</td>\n",
       "      <td>5.0</td>\n",
       "      <td>11.24.2019</td>\n",
       "      <td>Duque'</td>\n",
       "      <td>125</td>\n",
       "      <td>Google ChromeCast</td>\n",
       "    </tr>\n",
       "    <tr>\n",
       "      <th>16329</th>\n",
       "      <td>Easy to use</td>\n",
       "      <td>Love this product took a moment to set up beca...</td>\n",
       "      <td>5.0</td>\n",
       "      <td>02.14.2020</td>\n",
       "      <td>kelseylee webb</td>\n",
       "      <td>133</td>\n",
       "      <td>Apple TV</td>\n",
       "    </tr>\n",
       "  </tbody>\n",
       "</table>\n",
       "</div>"
      ],
      "text/plain": [
       "                                            review_title  \\\n",
       "1760                                            Bought 2   \n",
       "4648                                             Nothing   \n",
       "9915   <U+0001F9D0><U+0001F9D0><U+0001F9D0> where's m...   \n",
       "3407   It's hooked up on 55 inch TV LG nino cell 2021...   \n",
       "2045                                    Vast improvement   \n",
       "12871                             Meets my need exactly!   \n",
       "16859                              Intuitive & effective   \n",
       "4296                                         Works great   \n",
       "6248                                                  Ok   \n",
       "16329                                        Easy to use   \n",
       "\n",
       "                                             review_text  review_star  \\\n",
       "1760                                      They work good          5.0   \n",
       "4648                                It’s nice. I love it          5.0   \n",
       "9915   I need a remote control for it I try mouse not...          3.0   \n",
       "3407                              I can't take a picture          5.0   \n",
       "2045   The voice recognition with Alexa is a big plus...          5.0   \n",
       "12871  This Roku stick package had everything needed ...          5.0   \n",
       "16859           The best of all the devices I’ve tested.          5.0   \n",
       "4296                    I love the direct Netflix button          5.0   \n",
       "6248   Does need a little better installation instruc...          5.0   \n",
       "16329  Love this product took a moment to set up beca...          5.0   \n",
       "\n",
       "             date            author  page               product  \n",
       "1760   01.22.2022           Kswis76   177  Amazon Fire TV Stick  \n",
       "4648   11.17.2021   Amazon Customer   465  Amazon Fire TV Stick  \n",
       "9915   03.10.2021          Alain B.   492     Google ChromeCast  \n",
       "3407   03.13.2022    Ronnie cleeton   341  Amazon Fire TV Stick  \n",
       "2045   12.09.2021  Van C. Seagraves   205  Amazon Fire TV Stick  \n",
       "12871  12.05.2019               RAM   288           Roku Remote  \n",
       "16859  07.08.2019     Jeff Frederes   186              Apple TV  \n",
       "4296   03.20.2022    Caitlyn Mckeen   430  Amazon Fire TV Stick  \n",
       "6248   11.24.2019            Duque'   125     Google ChromeCast  \n",
       "16329  02.14.2020    kelseylee webb   133              Apple TV  "
      ]
     },
     "execution_count": 10,
     "metadata": {},
     "output_type": "execute_result"
    }
   ],
   "source": [
    "# preview new clean columns\n",
    "df.sample(10)"
   ]
  }
 ],
 "metadata": {
  "kernelspec": {
   "display_name": "Python 3.8.13 ('ads599')",
   "language": "python",
   "name": "python3"
  },
  "language_info": {
   "codemirror_mode": {
    "name": "ipython",
    "version": 3
   },
   "file_extension": ".py",
   "mimetype": "text/x-python",
   "name": "python",
   "nbconvert_exporter": "python",
   "pygments_lexer": "ipython3",
   "version": "3.8.13"
  },
  "vscode": {
   "interpreter": {
    "hash": "8fb40fb6fc083ec60bb570639d96099951c3529e4325888a92a15951c8905959"
   }
  }
 },
 "nbformat": 4,
 "nbformat_minor": 5
}
